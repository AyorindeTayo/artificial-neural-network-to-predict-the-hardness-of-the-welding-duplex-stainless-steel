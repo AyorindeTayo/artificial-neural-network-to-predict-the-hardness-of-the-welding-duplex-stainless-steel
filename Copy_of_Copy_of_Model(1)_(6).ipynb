{
  "nbformat": 4,
  "nbformat_minor": 0,
  "metadata": {
    "colab": {
      "name": "Copy of Copy_of_Model(1) (6).ipynb",
      "provenance": [],
      "collapsed_sections": [],
      "include_colab_link": true
    },
    "kernelspec": {
      "name": "python3",
      "display_name": "Python 3"
    },
    "accelerator": "GPU"
  },
  "cells": [
    {
      "cell_type": "markdown",
      "metadata": {
        "id": "view-in-github",
        "colab_type": "text"
      },
      "source": [
        "<a href=\"https://colab.research.google.com/github/AyorindeTayo/artificial-neural-network-to-predict-the-hardness-of-the-welding-duplex-stainless-steel/blob/master/Copy_of_Copy_of_Model(1)_(6).ipynb\" target=\"_parent\"><img src=\"https://colab.research.google.com/assets/colab-badge.svg\" alt=\"Open In Colab\"/></a>"
      ]
    },
    {
      "cell_type": "markdown",
      "metadata": {
        "id": "-VhY1ebSzCtI",
        "colab_type": "text"
      },
      "source": [
        "# Overview\n",
        "This notebook is about building an artificial neural network to predict the hardness of the welding duplex stainless steel. All our codes are written in the notebook offered by google colab, a free cloud based service offered by Google. It provides us with an online GPU that helps run our codes without too much struggles. It is very handy to build deep learning models with librairies like Keras, TensorFlow, PyTorch and OpenCV. In this work, we mainly use Keras, TensorFlow and the other usual python's librairies such as pandas, numpy and matplotlib."
      ]
    },
    {
      "cell_type": "markdown",
      "metadata": {
        "id": "PDo6eugDmver",
        "colab_type": "text"
      },
      "source": [
        "# Updating to Tensorflow 2 and Installation of tensorflow docs"
      ]
    },
    {
      "cell_type": "code",
      "metadata": {
        "id": "acJh38LsxnWr",
        "colab_type": "code",
        "outputId": "223993ed-1328-412d-9ede-ede51ec8a677",
        "colab": {
          "base_uri": "https://localhost:8080/",
          "height": 340
        }
      },
      "source": [
        "!pip install tensorflow-gpu==2.0.0-alpha0 #"
      ],
      "execution_count": 0,
      "outputs": [
        {
          "output_type": "stream",
          "text": [
            "Requirement already satisfied: tensorflow-gpu==2.0.0-alpha0 in /usr/local/lib/python3.6/dist-packages (2.0.0a0)\n",
            "Requirement already satisfied: keras-preprocessing>=1.0.5 in /usr/local/lib/python3.6/dist-packages (from tensorflow-gpu==2.0.0-alpha0) (1.1.0)\n",
            "Requirement already satisfied: tb-nightly<1.14.0a20190302,>=1.14.0a20190301 in /usr/local/lib/python3.6/dist-packages (from tensorflow-gpu==2.0.0-alpha0) (1.14.0a20190301)\n",
            "Requirement already satisfied: six>=1.10.0 in /usr/local/lib/python3.6/dist-packages (from tensorflow-gpu==2.0.0-alpha0) (1.12.0)\n",
            "Requirement already satisfied: keras-applications>=1.0.6 in /usr/local/lib/python3.6/dist-packages (from tensorflow-gpu==2.0.0-alpha0) (1.0.8)\n",
            "Requirement already satisfied: google-pasta>=0.1.2 in /usr/local/lib/python3.6/dist-packages (from tensorflow-gpu==2.0.0-alpha0) (0.2.0)\n",
            "Requirement already satisfied: termcolor>=1.1.0 in /usr/local/lib/python3.6/dist-packages (from tensorflow-gpu==2.0.0-alpha0) (1.1.0)\n",
            "Requirement already satisfied: tf-estimator-nightly<1.14.0.dev2019030116,>=1.14.0.dev2019030115 in /usr/local/lib/python3.6/dist-packages (from tensorflow-gpu==2.0.0-alpha0) (1.14.0.dev2019030115)\n",
            "Requirement already satisfied: astor>=0.6.0 in /usr/local/lib/python3.6/dist-packages (from tensorflow-gpu==2.0.0-alpha0) (0.8.1)\n",
            "Requirement already satisfied: protobuf>=3.6.1 in /usr/local/lib/python3.6/dist-packages (from tensorflow-gpu==2.0.0-alpha0) (3.10.0)\n",
            "Requirement already satisfied: grpcio>=1.8.6 in /usr/local/lib/python3.6/dist-packages (from tensorflow-gpu==2.0.0-alpha0) (1.27.2)\n",
            "Requirement already satisfied: wheel>=0.26 in /usr/local/lib/python3.6/dist-packages (from tensorflow-gpu==2.0.0-alpha0) (0.34.2)\n",
            "Requirement already satisfied: numpy<2.0,>=1.14.5 in /usr/local/lib/python3.6/dist-packages (from tensorflow-gpu==2.0.0-alpha0) (1.18.2)\n",
            "Requirement already satisfied: gast>=0.2.0 in /usr/local/lib/python3.6/dist-packages (from tensorflow-gpu==2.0.0-alpha0) (0.2.2)\n",
            "Requirement already satisfied: absl-py>=0.7.0 in /usr/local/lib/python3.6/dist-packages (from tensorflow-gpu==2.0.0-alpha0) (0.9.0)\n",
            "Requirement already satisfied: werkzeug>=0.11.15 in /usr/local/lib/python3.6/dist-packages (from tb-nightly<1.14.0a20190302,>=1.14.0a20190301->tensorflow-gpu==2.0.0-alpha0) (1.0.0)\n",
            "Requirement already satisfied: markdown>=2.6.8 in /usr/local/lib/python3.6/dist-packages (from tb-nightly<1.14.0a20190302,>=1.14.0a20190301->tensorflow-gpu==2.0.0-alpha0) (3.2.1)\n",
            "Requirement already satisfied: h5py in /usr/local/lib/python3.6/dist-packages (from keras-applications>=1.0.6->tensorflow-gpu==2.0.0-alpha0) (2.10.0)\n",
            "Requirement already satisfied: setuptools in /usr/local/lib/python3.6/dist-packages (from protobuf>=3.6.1->tensorflow-gpu==2.0.0-alpha0) (46.0.0)\n"
          ],
          "name": "stdout"
        }
      ]
    },
    {
      "cell_type": "code",
      "metadata": {
        "id": "lX3wWPad-40X",
        "colab_type": "code",
        "outputId": "80aead64-b0bd-4f0f-ddae-bea6933f3ab5",
        "colab": {
          "base_uri": "https://localhost:8080/",
          "height": 34
        }
      },
      "source": [
        "!pip install -q git+https://github.com/tensorflow/docs"
      ],
      "execution_count": 0,
      "outputs": [
        {
          "output_type": "stream",
          "text": [
            "  Building wheel for tensorflow-docs (setup.py) ... \u001b[?25l\u001b[?25hdone\n"
          ],
          "name": "stdout"
        }
      ]
    },
    {
      "cell_type": "code",
      "metadata": {
        "id": "xI-h6tNfi6AD",
        "colab_type": "code",
        "outputId": "3a3d921f-7a65-4900-dc52-c1d5888c53a8",
        "colab": {
          "base_uri": "https://localhost:8080/",
          "height": 255
        }
      },
      "source": [
        "!pip install git+https://github.com/tensorflow/docs"
      ],
      "execution_count": 0,
      "outputs": [
        {
          "output_type": "stream",
          "text": [
            "Collecting git+https://github.com/tensorflow/docs\n",
            "  Cloning https://github.com/tensorflow/docs to /tmp/pip-req-build-t2giiqbp\n",
            "  Running command git clone -q https://github.com/tensorflow/docs /tmp/pip-req-build-t2giiqbp\n",
            "Requirement already satisfied (use --upgrade to upgrade): tensorflow-docs==0.0.0 from git+https://github.com/tensorflow/docs in /usr/local/lib/python3.6/dist-packages\n",
            "Requirement already satisfied: astor in /usr/local/lib/python3.6/dist-packages (from tensorflow-docs==0.0.0) (0.8.1)\n",
            "Requirement already satisfied: absl-py in /usr/local/lib/python3.6/dist-packages (from tensorflow-docs==0.0.0) (0.9.0)\n",
            "Requirement already satisfied: six in /usr/local/lib/python3.6/dist-packages (from tensorflow-docs==0.0.0) (1.12.0)\n",
            "Requirement already satisfied: pathlib2 in /usr/local/lib/python3.6/dist-packages (from tensorflow-docs==0.0.0) (2.3.5)\n",
            "Requirement already satisfied: pyyaml in /usr/local/lib/python3.6/dist-packages (from tensorflow-docs==0.0.0) (3.13)\n",
            "Building wheels for collected packages: tensorflow-docs\n",
            "  Building wheel for tensorflow-docs (setup.py) ... \u001b[?25l\u001b[?25hdone\n",
            "  Created wheel for tensorflow-docs: filename=tensorflow_docs-0.0.0-cp36-none-any.whl size=80383 sha256=6e67e1b83321c83ed7d3100759bdf94154869fd78e3ff1b13f0e2b3775630844\n",
            "  Stored in directory: /tmp/pip-ephem-wheel-cache-yatqc4gf/wheels/eb/1b/35/fce87697be00d2fc63e0b4b395b0d9c7e391a10e98d9a0d97f\n",
            "Successfully built tensorflow-docs\n"
          ],
          "name": "stdout"
        }
      ]
    },
    {
      "cell_type": "markdown",
      "metadata": {
        "id": "cDX8wJIcnLL-",
        "colab_type": "text"
      },
      "source": [
        "# Importing the necessary librairies"
      ]
    },
    {
      "cell_type": "code",
      "metadata": {
        "id": "iIdtyti1aw9v",
        "colab_type": "code",
        "colab": {}
      },
      "source": [
        "import tensorflow as tf\n",
        "import numpy as np\n",
        "import pandas as pd\n",
        "import seaborn as sns\n",
        "import matplotlib.pyplot as plt\n",
        "from tensorflow import keras\n",
        "\n",
        "\n",
        "import tensorflow_docs as tfdocs\n",
        "import tensorflow_docs.plots\n",
        "import tensorflow_docs.modeling\n"
      ],
      "execution_count": 0,
      "outputs": []
    },
    {
      "cell_type": "markdown",
      "metadata": {
        "id": "7_1d0mk5naXI",
        "colab_type": "text"
      },
      "source": [
        "# A quick exploratory data analysis"
      ]
    },
    {
      "cell_type": "code",
      "metadata": {
        "id": "QY2R5WUIdJGt",
        "colab_type": "code",
        "outputId": "838d8c1a-758e-4a93-e775-f41315152eb6",
        "colab": {
          "resources": {
            "http://localhost:8080/nbextensions/google.colab/files.js": {
              "data": "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",
              "ok": true,
              "headers": [
                [
                  "content-type",
                  "application/javascript"
                ]
              ],
              "status": 200,
              "status_text": ""
            }
          },
          "base_uri": "https://localhost:8080/",
          "height": 111
        }
      },
      "source": [
        "from google.colab import files\n",
        "files.upload()"
      ],
      "execution_count": 0,
      "outputs": [
        {
          "output_type": "display_data",
          "data": {
            "text/html": [
              "\n",
              "     <input type=\"file\" id=\"files-7df27ac9-50fb-4cdf-a1fc-d49e6d1e1414\" name=\"files[]\" multiple disabled />\n",
              "     <output id=\"result-7df27ac9-50fb-4cdf-a1fc-d49e6d1e1414\">\n",
              "      Upload widget is only available when the cell has been executed in the\n",
              "      current browser session. Please rerun this cell to enable.\n",
              "      </output>\n",
              "      <script src=\"/nbextensions/google.colab/files.js\"></script> "
            ],
            "text/plain": [
              "<IPython.core.display.HTML object>"
            ]
          },
          "metadata": {
            "tags": []
          }
        },
        {
          "output_type": "stream",
          "text": [
            "Saving data_1004.xlsx to data_1004 (1).xlsx\n"
          ],
          "name": "stdout"
        },
        {
          "output_type": "execute_result",
          "data": {
            "text/plain": [
              "{'data_1004.xlsx': b'PK\\x03\\x04\\x14\\x00\\x06\\x00\\x08\\x00\\x00\\x00!\\x00\\xa7\\x0c\\xebyh\\x01\\x00\\x00\\r\\x05\\x00\\x00\\x13\\x00\\x08\\x02[Content_Types].xml \\xa2\\x04\\x02(\\xa0\\x00\\x02\\x00\\x00\\x00\\x00\\x00\\x00\\x00\\x00\\x00\\x00\\x00\\x00\\x00\\x00\\x00\\x00\\x00\\x00\\x00\\x00\\x00\\x00\\x00\\x00\\x00\\x00\\x00\\x00\\x00\\x00\\x00\\x00\\x00\\x00\\x00\\x00\\x00\\x00\\x00\\x00\\x00\\x00\\x00\\x00\\x00\\x00\\x00\\x00\\x00\\x00\\x00\\x00\\x00\\x00\\x00\\x00\\x00\\x00\\x00\\x00\\x00\\x00\\x00\\x00\\x00\\x00\\x00\\x00\\x00\\x00\\x00\\x00\\x00\\x00\\x00\\x00\\x00\\x00\\x00\\x00\\x00\\x00\\x00\\x00\\x00\\x00\\x00\\x00\\x00\\x00\\x00\\x00\\x00\\x00\\x00\\x00\\x00\\x00\\x00\\x00\\x00\\x00\\x00\\x00\\x00\\x00\\x00\\x00\\x00\\x00\\x00\\x00\\x00\\x00\\x00\\x00\\x00\\x00\\x00\\x00\\x00\\x00\\x00\\x00\\x00\\x00\\x00\\x00\\x00\\x00\\x00\\x00\\x00\\x00\\x00\\x00\\x00\\x00\\x00\\x00\\x00\\x00\\x00\\x00\\x00\\x00\\x00\\x00\\x00\\x00\\x00\\x00\\x00\\x00\\x00\\x00\\x00\\x00\\x00\\x00\\x00\\x00\\x00\\x00\\x00\\x00\\x00\\x00\\x00\\x00\\x00\\x00\\x00\\x00\\x00\\x00\\x00\\x00\\x00\\x00\\x00\\x00\\x00\\x00\\x00\\x00\\x00\\x00\\x00\\x00\\x00\\x00\\x00\\x00\\x00\\x00\\x00\\x00\\x00\\x00\\x00\\x00\\x00\\x00\\x00\\x00\\x00\\x00\\x00\\x00\\x00\\x00\\x00\\x00\\x00\\x00\\x00\\x00\\x00\\x00\\x00\\x00\\x00\\x00\\x00\\x00\\x00\\x00\\x00\\x00\\x00\\x00\\x00\\x00\\x00\\x00\\x00\\x00\\x00\\x00\\x00\\x00\\x00\\x00\\x00\\x00\\x00\\x00\\x00\\x00\\x00\\x00\\x00\\x00\\x00\\x00\\x00\\x00\\x00\\x00\\x00\\x00\\x00\\x00\\x00\\x00\\x00\\x00\\x00\\x00\\x00\\x00\\x00\\x00\\x00\\x00\\x00\\x00\\x00\\x00\\x00\\x00\\x00\\x00\\x00\\x00\\x00\\x00\\x00\\x00\\x00\\x00\\x00\\x00\\x00\\x00\\x00\\x00\\x00\\x00\\x00\\x00\\x00\\x00\\x00\\x00\\x00\\x00\\x00\\x00\\x00\\x00\\x00\\x00\\x00\\x00\\x00\\x00\\x00\\x00\\x00\\x00\\x00\\x00\\x00\\x00\\x00\\x00\\x00\\x00\\x00\\x00\\x00\\x00\\x00\\x00\\x00\\x00\\x00\\x00\\x00\\x00\\x00\\x00\\x00\\x00\\x00\\x00\\x00\\x00\\x00\\x00\\x00\\x00\\x00\\x00\\x00\\x00\\x00\\x00\\x00\\x00\\x00\\x00\\x00\\x00\\x00\\x00\\x00\\x00\\x00\\x00\\x00\\x00\\x00\\x00\\x00\\x00\\x00\\x00\\x00\\x00\\x00\\x00\\x00\\x00\\x00\\x00\\x00\\x00\\x00\\x00\\x00\\x00\\x00\\x00\\x00\\x00\\x00\\x00\\x00\\x00\\x00\\x00\\x00\\x00\\x00\\x00\\x00\\x00\\x00\\x00\\x00\\x00\\x00\\x00\\x00\\x00\\x00\\x00\\x00\\x00\\x00\\x00\\x00\\x00\\x00\\x00\\x00\\x00\\x00\\x00\\x00\\x00\\x00\\x00\\x00\\x00\\x00\\x00\\x00\\x00\\x00\\x00\\x00\\x00\\x00\\x00\\x00\\x00\\x00\\x00\\x00\\x00\\x00\\x00\\x00\\x00\\x00\\x00\\x00\\x00\\x00\\x00\\x00\\x00\\x00\\x00\\x00\\x00\\x00\\x00\\x00\\x00\\x00\\x00\\x00\\x00\\x00\\x00\\x00\\x00\\x00\\x00\\x00\\x00\\x00\\x00\\x00\\x00\\x00\\x00\\x00\\x00\\x00\\x00\\x00\\x00\\x00\\x00\\x00\\x00\\x00\\x00\\x00\\x00\\x00\\x00\\x00\\x00\\x00\\x00\\xac\\x94\\xcbn\\xc20\\x10E\\xf7\\x95\\xfa\\x0f\\x91\\xb7Ub\\xe8\\xa2\\xaa*\\x02\\x8b>\\x96-R\\xe9\\x07\\xb8\\xf6\\x84X\\xf8%\\xcf@\\xe1\\xef\\xeb\\x18\\xa8\\xaa*\\x05!\\xd8\\xc4J<s\\xcf\\xcd\\xc47\\xa3\\xc9\\xda\\x9ab\\x05\\x11\\xb5w5\\x1bV\\x03V\\x80\\x93^i7\\xaf\\xd9\\xc7\\xec\\xa5\\xbcg\\x05\\x92pJ\\x18\\xef\\xa0f\\x1b@6\\x19__\\x8df\\x9b\\x00X\\xa4n\\x875k\\x89\\xc2\\x03\\xe7([\\xb0\\x02+\\x1f\\xc0\\xa5\\x9d\\xc6G+(\\xdd\\xc69\\x0fB.\\xc4\\x1c\\xf8\\xed`p\\xc7\\xa5w\\x04\\x8eJ\\xea4\\xd8x\\xf4\\x04\\x8dX\\x1a*\\x9e\\xd7\\xe9\\xf1\\xd6I\\x04\\x83\\xacx\\xdc\\x16v\\xac\\x9a\\x89\\x10\\x8c\\x96\\x82\\x92S\\xber\\xea\\x0f\\xa5\\xdc\\x11\\xaa\\xd4\\x99k\\xb0\\xd5\\x01o\\x92\\r\\xc6{\\t\\xdd\\xce\\xff\\x80]\\xdf[\\x1aM\\xd4\\n\\x8a\\xa9\\x88\\xf4*l\\xb2\\xc1\\xd7\\x86\\x7f\\xf9\\xb8\\xf8\\xf4~Q\\x1d\\x16\\xe9q\\xe9\\x9bFKP^.m\\x9a@\\x85!\\x82P\\xd8\\x02\\x905U^++\\xb4\\xdb\\xfb>\\xc0\\xcf\\xc5\\xc8\\xf32\\xbc\\xb0\\x91\\xee\\xfd\\xb2\\xf0\\x11\\x1f\\x94\\xbe7\\xf0|=\\xdfB\\x969\\x02D\\xda\\x18\\xc0K\\x8f=\\x8b\\x1e#\\xb7\"\\x82z\\xa7\\x98\\x92qq\\x03\\xbf\\xb5\\x0f\\xf9H\\xe7f\\x1a}\\xc0\\x94\\xa0\\x08\\xa7Oa\\x1f\\x91\\xae\\xbb\\x0cI\\x08\"i\\xf8\\tI\\xdfa\\xfb!\\xa6\\xf4\\x9d=v\\xe8\\xf2\\xad@\\x9d\\xca\\x96K$o\\xcf\\xc6oez\\xe0<\\xff\\xcc\\xc6\\xdf\\x00\\x00\\x00\\xff\\xff\\x03\\x00PK\\x03\\x04\\x14\\x00\\x06\\x00\\x08\\x00\\x00\\x00!\\x00\\x13^\\xbee\\x02\\x01\\x00\\x00\\xdf\\x02\\x00\\x00\\x0b\\x00\\x08\\x02_rels/.rels \\xa2\\x04\\x02(\\xa0\\x00\\x02\\x00\\x00\\x00\\x00\\x00\\x00\\x00\\x00\\x00\\x00\\x00\\x00\\x00\\x00\\x00\\x00\\x00\\x00\\x00\\x00\\x00\\x00\\x00\\x00\\x00\\x00\\x00\\x00\\x00\\x00\\x00\\x00\\x00\\x00\\x00\\x00\\x00\\x00\\x00\\x00\\x00\\x00\\x00\\x00\\x00\\x00\\x00\\x00\\x00\\x00\\x00\\x00\\x00\\x00\\x00\\x00\\x00\\x00\\x00\\x00\\x00\\x00\\x00\\x00\\x00\\x00\\x00\\x00\\x00\\x00\\x00\\x00\\x00\\x00\\x00\\x00\\x00\\x00\\x00\\x00\\x00\\x00\\x00\\x00\\x00\\x00\\x00\\x00\\x00\\x00\\x00\\x00\\x00\\x00\\x00\\x00\\x00\\x00\\x00\\x00\\x00\\x00\\x00\\x00\\x00\\x00\\x00\\x00\\x00\\x00\\x00\\x00\\x00\\x00\\x00\\x00\\x00\\x00\\x00\\x00\\x00\\x00\\x00\\x00\\x00\\x00\\x00\\x00\\x00\\x00\\x00\\x00\\x00\\x00\\x00\\x00\\x00\\x00\\x00\\x00\\x00\\x00\\x00\\x00\\x00\\x00\\x00\\x00\\x00\\x00\\x00\\x00\\x00\\x00\\x00\\x00\\x00\\x00\\x00\\x00\\x00\\x00\\x00\\x00\\x00\\x00\\x00\\x00\\x00\\x00\\x00\\x00\\x00\\x00\\x00\\x00\\x00\\x00\\x00\\x00\\x00\\x00\\x00\\x00\\x00\\x00\\x00\\x00\\x00\\x00\\x00\\x00\\x00\\x00\\x00\\x00\\x00\\x00\\x00\\x00\\x00\\x00\\x00\\x00\\x00\\x00\\x00\\x00\\x00\\x00\\x00\\x00\\x00\\x00\\x00\\x00\\x00\\x00\\x00\\x00\\x00\\x00\\x00\\x00\\x00\\x00\\x00\\x00\\x00\\x00\\x00\\x00\\x00\\x00\\x00\\x00\\x00\\x00\\x00\\x00\\x00\\x00\\x00\\x00\\x00\\x00\\x00\\x00\\x00\\x00\\x00\\x00\\x00\\x00\\x00\\x00\\x00\\x00\\x00\\x00\\x00\\x00\\x00\\x00\\x00\\x00\\x00\\x00\\x00\\x00\\x00\\x00\\x00\\x00\\x00\\x00\\x00\\x00\\x00\\x00\\x00\\x00\\x00\\x00\\x00\\x00\\x00\\x00\\x00\\x00\\x00\\x00\\x00\\x00\\x00\\x00\\x00\\x00\\x00\\x00\\x00\\x00\\x00\\x00\\x00\\x00\\x00\\x00\\x00\\x00\\x00\\x00\\x00\\x00\\x00\\x00\\x00\\x00\\x00\\x00\\x00\\x00\\x00\\x00\\x00\\x00\\x00\\x00\\x00\\x00\\x00\\x00\\x00\\x00\\x00\\x00\\x00\\x00\\x00\\x00\\x00\\x00\\x00\\x00\\x00\\x00\\x00\\x00\\x00\\x00\\x00\\x00\\x00\\x00\\x00\\x00\\x00\\x00\\x00\\x00\\x00\\x00\\x00\\x00\\x00\\x00\\x00\\x00\\x00\\x00\\x00\\x00\\x00\\x00\\x00\\x00\\x00\\x00\\x00\\x00\\x00\\x00\\x00\\x00\\x00\\x00\\x00\\x00\\x00\\x00\\x00\\x00\\x00\\x00\\x00\\x00\\x00\\x00\\x00\\x00\\x00\\x00\\x00\\x00\\x00\\x00\\x00\\x00\\x00\\x00\\x00\\x00\\x00\\x00\\x00\\x00\\x00\\x00\\x00\\x00\\x00\\x00\\x00\\x00\\x00\\x00\\x00\\x00\\x00\\x00\\x00\\x00\\x00\\x00\\x00\\x00\\x00\\x00\\x00\\x00\\x00\\x00\\x00\\x00\\x00\\x00\\x00\\x00\\x00\\x00\\x00\\x00\\x00\\x00\\x00\\x00\\x00\\x00\\x00\\x00\\x00\\x00\\x00\\x00\\x00\\x00\\x00\\x00\\x00\\x00\\x00\\x00\\x00\\x00\\x00\\x00\\x00\\x00\\x00\\x00\\x00\\x00\\x00\\x00\\x00\\x00\\x00\\x00\\x00\\x00\\x00\\x00\\x00\\x00\\x00\\x00\\x00\\x00\\x00\\x00\\x00\\x00\\x00\\x00\\x00\\x00\\x00\\x00\\x00\\x00\\x00\\x00\\xac\\x92MK\\x031\\x10\\x86\\xef\\x82\\xff!\\xcc\\xbd;\\xdb*\"\\xd2l/E\\xe8Md\\xfd\\x011\\x99\\xfd`7\\x99\\x90\\xa4\\xba\\xfd\\xf7FAt\\xa1\\xb6\\x1ez\\x9c\\xafw\\x9ey\\x99\\xf5f\\xb2\\xa3x\\xa3\\x10{v\\x12\\x96E\\t\\x82\\x9cf\\xd3\\xbbV\\xc2K\\xfd\\xb8\\xb8\\x07\\x11\\x93rF\\x8d\\xecH\\xc2\\x81\"l\\xaa\\xeb\\xab\\xf53\\x8d*\\xe5\\xa1\\xd8\\xf5>\\x8a\\xac\\xe2\\xa2\\x84.%\\xff\\x80\\x18uGV\\xc5\\x82=\\xb9\\\\i8X\\x95r\\x18Z\\xf4J\\x0f\\xaa%\\\\\\x95\\xe5\\x1d\\x86\\xdf\\x1aP\\xcd4\\xc5\\xceH\\x08;s\\x03\\xa2>\\xf8\\xbc\\xf9\\xbc67M\\xafi\\xcbzo\\xc9\\xa5#+\\x90\\xa6D\\xce\\x90Y\\xf8\\x90\\xd9B\\xea\\xf35\\xa2V\\xa1\\xa5$\\xc1\\xb0~\\xca\\xe9\\x88\\xca\\xfb\"c\\x03\\x1e\\'Z\\xfd\\x9f\\xe8\\xefk\\xd1RRF%\\x85\\x9a\\x03\\x9d\\xe6\\xf9\\xec8\\x05\\xb4\\xbc\\xa4Es\\x13\\x7f\\xdc\\x99F|\\xe70\\xbc2\\x0f\\xa7Xn/\\xc9\\xa2\\xf71\\xb1=c\\xceW\\xcf7\\x12\\xce\\xde\\xb2\\xfa\\x00\\x00\\x00\\xff\\xff\\x03\\x00PK\\x03\\x04\\x14\\x00\\x06\\x00\\x08\\x00\\x00\\x00!\\x00\\xc4\\xe4\\xb6\\xbe\\x9a\\x02\\x00\\x00\\x11\\x06\\x00\\x00\\x0f\\x00\\x00\\x00xl/workbook.xml\\xa4T]o\\xda0\\x14}\\x9f\\xb4\\xff`\\xf9=M\\x1c \\xa5QCU\\xa0hH\\xdbTm\\xfd\\x90&\\xa4\\xca$\\x86x8vf;\\x85\\xaa\\xea\\x7f\\xdfuBh){\\xe8\\xda\\x08\\x9c\\xd879>\\xe7\\xdes}z\\xb6)\\x04\\xbag\\xdap%\\x13L\\x8e\\x02\\x8c\\x98LU\\xc6\\xe52\\xc1\\xd7W\\x13\\xaf\\x8f\\x91\\xb1TfT(\\xc9\\x12\\xfc\\xc0\\x0c>\\x1b|\\xfet\\xbaVz5Wj\\x85\\x00@\\x9a\\x04\\xe7\\xd6\\x96\\xb1\\xef\\x9b4g\\x055G\\xaad\\x12\"\\x0b\\xa5\\x0bja\\xaa\\x97\\xbe)5\\xa3\\x99\\xc9\\x19\\xb3\\x85\\xf0\\xc3 \\x88\\xfc\\x82r\\x89\\x1b\\x84X\\xbf\\x05C-\\x16<ec\\x95V\\x05\\x93\\xb6\\x01\\xd1LP\\x0b\\xf4M\\xceK\\xd3\\xa2\\x15\\xe9[\\xe0\\n\\xaaWU\\xe9\\xa5\\xaa(\\x01b\\xce\\x05\\xb7\\x0f5(FE\\x1aO\\x97Ri:\\x17 {Czh\\xa3\\xe1\\x17\\xc1\\x9f\\x040\\x84\\xedN\\x10:\\xd8\\xaa\\xe0\\xa9VF-\\xec\\x11@\\xfb\\r\\xe9\\x03\\xfd$\\xf0\\t\\xd9K\\xc1\\xe60\\x07oC\\xea\\xfa\\x9a\\xddsW\\xc3\\x1d+\\x1d\\xbd\\x93U\\xb4\\xc3\\x8a\\x9e\\xc1H\\xf0a4\\x02\\xd6\\xaa\\xbd\\x12C\\xf2\\xde\\x89\\xd6\\xdbq\\x0b\\xf1\\xe0t\\xc1\\x05\\xbbi\\xac\\x8bhY~\\xa7\\x85\\xab\\x94\\xc0HPc/2nY\\x96\\xe0c\\x98\\xaa5\\xdb[\\xd0U9\\xac\\xb8\\x80hH:a\\x1f\\xfb\\x83\\x9d\\x9d/5\\xca\\xd8\\x82V\\xc2^\\x81\\x91[x\\xe8\\x8c(:\\t{\\xeeM0\\xc6\\xb9\\xb0LKj\\xd9HI\\x0b>\\xdc\\xea\\xfa\\xa8\\xe7j\\xecQ\\xae\\xc0\\xe1\\xe8\\x07\\xfbSq\\xcd\\xa0\\xb1\\xc0_\\xa0\\x15F\\x9a\\xc6tn.\\xa9\\xcdQ\\xa5E\\x82G\\xf1\\xec\\xda\\x80\\xfc\\xd9/\\xd7\\x87\\xb313+\\xab\\xca\\xd9\\xef\\xaa\\x04\\xe5z\\xf6\\xc2\\x9f\\xf4\\xb0\\x19\\xfe\\xc3\\xa14u\\xb2}\\xd0\\xddpk\\x9e_\\xe7\\x00(\\xea\\xb8u\\xe1\\xa5\\xd5\\x08\\x9e\\xa7\\xe3\\xafP\\x89\\x9f\\xf4\\x1e\\xea\\x02\\xd5\\xcf\\xb6m;\\x85\\xc4\\xf7\\xef\\x1e\\x87\\x17\\xc3n\\xf7\":\\xf1\\xa2N0\\xf2\\xba\\xc7\\xd1\\xb9w>\\xec\\r\\xbd\\xd1\\xa4\\xdf\\x1b\\x05a\\xbf3\\x0e\\'O\\xa0BGq\\xaahe\\xf3m\\xad\\x1df\\x82\\xbb\\xe4\\x1f\\xa1ot\\xd3FH\\x10W<{\\xde\\xff1\\xd8^\\x9e\\xbb\\xbf\\x1a\\xda\\xd8\\x93S\\xea\\xb2y\\xc3\\xd9\\xda<\\xbb\\xc2M\\xd1\\xe6\\x96\\xcbL\\xad\\x13\\xec\\x91\\x00N\\xc5\\x87\\xfd\\xe9\\xba\\x0e\\xde\\xf2\\xcc\\xe6`\\xabN\\xd8\\x83\\xeei\\xd6\\xbe0\\xbe\\xcc\\x811\\t{\\xc7\\xae\\xa5t\\xe8\\x98%x\\x8f\\xd1\\xb8a4\\x81\\xcbs\\xc3\\x1e#\\xff\\x05\\xa5\\xfa\\xfc\\x04j\\xf5\\x1d\\xc9\\xda\\xf3\\x19\\xb5\\xf4\\x8e\\x04\\x90\\xe2z\\xd5\\xe5\\x17\\xb2\\xa3c\\xb7\\x8b\\x9ef\\xa4\\xae_\\xfbaJE\\n.w7\\xf7bP\\x07\\xdb\\xd3|\\xf0\\x17\\x00\\x00\\xff\\xff\\x03\\x00PK\\x03\\x04\\x14\\x00\\x06\\x00\\x08\\x00\\x00\\x00!\\x00\\x81>\\x94\\x97\\xf3\\x00\\x00\\x00\\xba\\x02\\x00\\x00\\x1a\\x00\\x08\\x01xl/_rels/workbook.xml.rels \\xa2\\x04\\x01(\\xa0\\x00\\x01\\x00\\x00\\x00\\x00\\x00\\x00\\x00\\x00\\x00\\x00\\x00\\x00\\x00\\x00\\x00\\x00\\x00\\x00\\x00\\x00\\x00\\x00\\x00\\x00\\x00\\x00\\x00\\x00\\x00\\x00\\x00\\x00\\x00\\x00\\x00\\x00\\x00\\x00\\x00\\x00\\x00\\x00\\x00\\x00\\x00\\x00\\x00\\x00\\x00\\x00\\x00\\x00\\x00\\x00\\x00\\x00\\x00\\x00\\x00\\x00\\x00\\x00\\x00\\x00\\x00\\x00\\x00\\x00\\x00\\x00\\x00\\x00\\x00\\x00\\x00\\x00\\x00\\x00\\x00\\x00\\x00\\x00\\x00\\x00\\x00\\x00\\x00\\x00\\x00\\x00\\x00\\x00\\x00\\x00\\x00\\x00\\x00\\x00\\x00\\x00\\x00\\x00\\x00\\x00\\x00\\x00\\x00\\x00\\x00\\x00\\x00\\x00\\x00\\x00\\x00\\x00\\x00\\x00\\x00\\x00\\x00\\x00\\x00\\x00\\x00\\x00\\x00\\x00\\x00\\x00\\x00\\x00\\x00\\x00\\x00\\x00\\x00\\x00\\x00\\x00\\x00\\x00\\x00\\x00\\x00\\x00\\x00\\x00\\x00\\x00\\x00\\x00\\x00\\x00\\x00\\x00\\x00\\x00\\x00\\x00\\x00\\x00\\x00\\x00\\x00\\x00\\x00\\x00\\x00\\x00\\x00\\x00\\x00\\x00\\x00\\x00\\x00\\x00\\x00\\x00\\x00\\x00\\x00\\x00\\x00\\x00\\x00\\x00\\x00\\x00\\x00\\x00\\x00\\x00\\x00\\x00\\x00\\x00\\x00\\x00\\x00\\x00\\x00\\x00\\x00\\x00\\x00\\x00\\x00\\x00\\x00\\x00\\x00\\x00\\x00\\x00\\x00\\x00\\x00\\x00\\x00\\x00\\x00\\x00\\x00\\x00\\x00\\x00\\x00\\x00\\x00\\x00\\x00\\x00\\x00\\x00\\x00\\x00\\x00\\x00\\x00\\x00\\x00\\x00\\x00\\x00\\x00\\x00\\x00\\x00\\x00\\x00\\x00\\x00\\x00\\x00\\xacRMK\\xc40\\x10\\xbd\\x0b\\xfe\\x870w\\x9bv\\x15\\x11\\xd9t/\"\\xecU\\xeb\\x0f\\x08\\xc9\\xb4)\\xdb&!3~\\xf4\\xdf\\x1b*\\xba]X\\xd6K/\\x03o\\x86y\\xef\\xcd\\xc7v\\xf75\\x0e\\xe2\\x03\\x13\\xf5\\xc1+\\xa8\\x8a\\x12\\x04z\\x13l\\xef;\\x05o\\xcd\\xf3\\xcd\\x03\\x08b\\xed\\xad\\x1e\\x82G\\x05\\x13\\x12\\xec\\xea\\xeb\\xab\\xed\\x0b\\x0e\\x9as\\x13\\xb9>\\x92\\xc8,\\x9e\\x148\\xe6\\xf8(%\\x19\\x87\\xa3\\xa6\"D\\xf4\\xb9\\xd2\\x864j\\xce0u2js\\xd0\\x1d\\xcaMY\\xde\\xcb\\xb4\\xe4\\x80\\xfa\\x84S\\xec\\xad\\x82\\xb4\\xb7\\xb7 \\x9a)f\\xe5\\xff\\xb9C\\xdb\\xf6\\x06\\x9f\\x82y\\x1f\\xd1\\xf3\\x19\\tI<\\ry\\x00\\xd1\\xe8\\xd4!+\\xf8\\xc1E\\xf6\\x08\\xf2\\xbc\\xfcfMy\\xcek\\xc1\\xa3\\xfa\\x0c\\xe5\\x1c\\xabK\\x1e\\xaa5=|\\x86t \\x87\\xc8G\\x1f\\x7f)\\x92s\\xe5\\xa2\\x99\\xbbU\\xef\\xe1tB\\xfb\\xca)\\xbf\\xdb\\xf2,\\xcb\\xf4\\xeff\\xe4\\xc9\\xc7\\xd5\\xdf\\x00\\x00\\x00\\xff\\xff\\x03\\x00PK\\x03\\x04\\x14\\x00\\x06\\x00\\x08\\x00\\x00\\x00!\\x00-\\xe3\\xa7\\xc14\\x05\\x00\\x00<\\x19\\x00\\x00\\x18\\x00\\x00\\x00xl/worksheets/sheet1.xml\\x9c\\x99Y\\x8f\\xdb6\\x10\\xc7\\xdf\\x0b\\xf4;\\x08z_\\xc9\\x14-\\xdb2l\\x07\\xe9z\\x83\\x04h\\x81\\xa2\\xd7\\xbb,\\xd3\\xb6\\xb0:\\\\I{\\xa1\\xc8w\\xefP\\x1c\\xf9 \\x87\\x80\\x98 \\xd9\\xd8s\\x90?Q#\\xfd9\\xdc\\xd5\\xa7\\xf7\\xb2\\xf0^E\\xd3\\xe6u\\xb5\\xf6Y0\\xf1=Qe\\xf5>\\xaf\\x8ek\\xff\\xef\\xbf\\xbe<,|\\xaf\\xed\\xd2j\\x9f\\x16u%\\xd6\\xfe\\x87h\\xfdO\\x9b\\x9f\\x7fZ\\xbd\\xd5\\xcds{\\x12\\xa2\\xf3`\\x84\\xaa]\\xfb\\xa7\\xae;/\\xc3\\xb0\\xcdN\\xa2L\\xdb\\xa0>\\x8b\\n<\\x87\\xba)\\xd3\\x0e\\xbe6\\xc7\\xb0=7\"\\xdd\\xf7Ie\\x11F\\x93\\xc9,,\\xd3\\xbc\\xf2\\xd5\\x08\\xcbf\\xcc\\x18\\xf5\\xe1\\x90gb[g/\\xa5\\xa8:5H#\\x8a\\xb4\\x03\\xfe\\xf6\\x94\\x9f\\xdba\\xb42\\x1b3\\\\\\x996\\xcf/\\xe7\\x87\\xac.\\xcf0\\xc4./\\xf2\\xee\\xa3\\x1f\\xd4\\xf7\\xcal\\xf9\\xedX\\xd5M\\xba+\\xe0\\xba\\xdf\\xd94\\xcd\\xbc\\xf7\\x06\\xfeF\\xf0\\x8f\\x0f\\xd3\\xf4vc\\xa62\\xcf\\x9a\\xba\\xad\\x0f]\\x00#\\x87\\x8a\\xd9\\xbc\\xfc$L\\xc24\\xbb\\x8cd^\\xff\\xa8a\\xd84l\\xc4k.o\\xe0u\\xa8\\xe8\\xc7\\x90X|\\x19+\\xba\\x0e\\xc6\\x7fp\\xb0\\xd9e0\\xb9\\\\\\xcd\\xf2%\\xdf\\xaf\\xfd\\xff&\\xf8\\xe7\\x01\\xfeg\\xf2\\xc7\\xe4\\xfac\\xf0}\\xf77\\xab}\\x0ewX^\\x95\\xd7\\x88\\xc3\\xda\\xff\\xcc\\x96O\\x9c\\xf9\\xe1f\\xd5\\x17\\xd0?\\xb9xko>{]\\xba\\xfbS\\x14\"\\xeb\\x04L\\xc2|\\xaf\\xab\\xcf\\xbf\\x8aC\\xf7(\\x8a\\x02\\x92\\xe7\\xbe\\'\\x0bvW\\xd7\\xcf2\\xf3\\x1b\\xc4L`\\x8e\\xb6\\xcf\\x90s\\xa4Y\\x97\\xbf\\n\\x15\\xfd5\\x9aB\\xd1\\xff\\xdbO+?\\xc3\\x9c\\xe1e\\xd2\\xdb\\xcf\\x03\\xc0\\x97\\xbe\\xc8\\x7fo\\xbc\\xbd8\\xa4/E\\xf7G\\xfd\\xf6U\\xe4\\xc7S\\x07$\\xd3\\x00\\x06\\xeb\\xabd\\xb9\\xff\\xd8\\x8a6\\x83\\xb2\\x85\\xc9\\x03~\\xb9\\x94m\\xda\\xa5\\x9bUS\\xbfyP\\x01@\\xde\\x9eS\\xf9<\\xb1elI\\xdc\\xac2\\x19\\xfaY^\\xe5\\xdao\\xe1:^7l\\x15\\xbe\\x02Z\\x86\\xbe_n}\\xd1\\xbd\\xef\\xf1\\xd6\\xc7\\xef}\\xdb[\\xdf\\xf4\\xde\\xf7t\\xeb\\x9b\\\\|!\\x90_\\xf0\\xa1jF\\xe3G\\n\\x1c\\xee\\xb9\\xc6\\xae\\x1c\\xb1F\\x8d\\xe1\\xb1\\x1e\\xbeU\\x0e\\xedB\\x9e\\xd0:\\xe5\\xc1\\x9cF\\x85\\x9a\\x1c\\x8d\\xcam\\xa8\\xca\\xa1\\xa3b\\xb8\\x89\\xaa\\x1c:*Z\\xe3Ip\\xbd\\x8bw\\xab*\\xcbqlQLm\\xa8\\xca\\xa1\\xa3b\\xb8\\x89\\xaa\\x1c:*Zcf[U\\xa8\\xd9\\xd1\\xa8\\xb1\\rU9tT\\x0c7Q\\x95CGE\\xeb,\\x0eft\\x01\\xcc\\x1cPg6T\\xe5\\xd0Q1\\xdcDU\\x0e\\x1d\\x15\\xad|\\x1e\\\\\\x07\\xba+\\x00x}\\x8d^\\xd5\\xb9\\rU9tT\\x0c7Q\\x95CGE\\xeb,\\n\\x16\\xf4\\xaa\\xca\\xfd\\xc2\\xd8Z]\\xd8P\\x95CG\\xc5p\\x13U9tT\\xb4\\xc63[\\xad&\\x0e\\xa8\\x89\\rU9tT\\x0c7Q\\x95CGEklyU1\\xd8\\x95\\x8dW\\x05)l \\x08\\xe6{\\x15\\x86\\x91\\x1e\\x9d\\x15\\xcd\\xcc\\x84E\\x8fN;\\x98ae\\x13\\xba\\x08\\x98\\x93\\x8c1+\\xb0\\xf2\\x18\\xc0\\x98@\\x00+\\x8f\\x01\\x8c\\xe6\\x19\\x0b\\xaeZx\\xf7\\x801\\x17\\xe1\\x82`\\xb9\\x8e\\x89!\\\\\\xe8`\\x9a\\xa0=\\x0e\\xf6\\xb9\\xa1]\\xe81\\x80\\x07\\xf5\\x9a\\xdb^^\\xccE\\xbe \\xd8\\x02<\\x08\\x9b\\xbeC@;\\x01LK\\x18\\xce\\xc0#\\xcb\\x0b\\x8c\\xb9H\\x18\\x04[p\\x07q\\xd3q\\xd1N\\xe0\\xd22\\x863\\xf0\\x9b;u_\\x0e.2\\xc6\\x94\\xd2\\x10\\xe50\\x08\\x9c\\x8e\\x8bv\\x02\\x97\\x962\\x9c\\x81sf{\\xeb2\\x171\\x83`\\xcb\\xfa\\x0e2\\xa7\\x03\\xa3\\x9d\\x00\\xa6\\x05\\rg\\xe0\\xd3\\xc4\\xfa\\x86p\\x914\\xa6T\\x87X\\xe1A\\xect`\\xb4\\x13\\xc0\\xb4\\xac\\xe1\\x0c\\x9c\\'\\xc1\\xf5Y\\xbc/\\t\\x17acJ{\\x08\\xe0A\\xf2t`\\xb4\\x13\\xc0\\xb4\\xb8\\xe1\\x0c|1\\xb3m\\x1a\\x99\\x8b\\xbcA\\xb0\\xa5$\\x06\\xe1\\xd3\\x81\\xd1N\\x00\\xd3\\x12\\x873\\xf0\\xe9\\xdcV\\x12\\x91\\x8b\\xcaA0\\r\\x8c\\x0e\\xe3\\x1d<\\xd8M`\\xf4\\x18\\r\\x84\\x9a\\x81/\\xac\\x0f]\\xe4\\xa2r\\x10l\\x01\\x1e\\xe4O\\xefw\\xd0N\\x00\\xd3*\\x873\\xf08\\xb6mx\"\\xa7\\xf6\\x0c\\x1b.\\xd8H\\xe8\\xfd\\x99\\xa5ASf8\\xd7\\xd1\\x12\\xb60\\xaf\\xbcv\\xad\\x0f}B3\\x8f\\xaf\\x8d\\xe6}3\\xe9\\xa2q\\x11J\\x16\\x81K7i\\x98@\\xe1\\xaa\\x04\\x03\\x17\\xa5on\\xd9\\xf4\\xf4\\xa7\\x06c\\xb7\\xbe\\x10\\xdc\\xef\\xd2\\x08\\\\\\xbaQ\\xc3\\x04\\nW%\\x18\\xb8(}\\x8bI`[_\\x17\\x95\\x8bP\\xb4\\x08`\\xba]\\xc3\\x04\\nX%\\x18\\xc0(~sk\\xcb\\x1e\\xb9\\xa8\\x1c\\x04\\xdbV\\x98n\\xda0\\x81\\x02V\\t\\x060\\x8a\\x1f\\xac\\xb0\\xad$\\\\T.B\\xd1\"V\\x98n\\xdd0\\x81\\x02V\\t\\x06\\xb02O\\'\\xccZ\\x12.*\\x17\\xa1h\\x11\\xc0t\\x03\\x87\\t\\x14\\xb0J0\\x80Q\\xfc\\x12k\\xa7\\x11\\xb9\\xa8\\x1c\\x04\\xdbJ\\x82n\\xe30\\x81\\x02V\\t\\x060\\x8a_\\x12Y\\x8f\\x9d\\\\T\\x8ec/g\\xae0z\\x8c\\x93\\'\\x95@\\x00c\\x82\\x0e\\x8cf>\\x9f\\xdbZ#8tu8(C\\xd1\"\\x80\\xe9^\\x0eF\\xef\\xa5\\xc1\\x14\\x8d\\xc1s/>\\xf2\\x0cX&\\xf0$66>\\xea\\x90V\\x1d\\xa7\\x9e\\xd3\\xa3\\xf8-m\\x8ey\\xd5z\\x05\\x9c\\x03\\xcb#Wx\\x18\\x1bu*\\xdb\\x7f\\x86\\x13\\xe2\\xde\\no\\xc1]\\xdduu9|;\\xc1o)\\x04\\x1c\\xb0\\xcaCZ\\xefP\\xd7\\xdd\\xf0E\\x1e\\x04_~\\xef\\xb1\\xf9\\x1f\\x00\\x00\\xff\\xff\\x03\\x00PK\\x03\\x04\\x14\\x00\\x06\\x00\\x08\\x00\\x00\\x00!\\x00\\xc1\\x17\\x10\\xbeN\\x07\\x00\\x00\\xc6 \\x00\\x00\\x13\\x00\\x00\\x00xl/theme/theme1.xml\\xecY\\xcd\\x8b\\x1b7\\x14\\xbf\\x17\\xfa?\\x0csw\\xfc5\\xe3\\x8f%\\xde\\xe0\\xcfl\\x93\\xdd$d\\x9d\\x94\\x1c\\xb5\\xb6\\xecQV32\\x92\\xbc\\x1b\\x13\\x02%9\\xf5R(\\xa4\\xa5\\x97Bo=\\x94\\xd2@\\x03\\r\\xbd\\xf4\\x8f\\t$\\xb4\\xe9\\x1f\\xd1\\'\\xcd\\xd8#\\xad\\xe5$\\x9blJZv\\r\\x8bG\\xfe\\xbd\\xa7\\xa7\\xf7\\x9e~z\\xf3t\\xf1\\xd2\\xbd\\x98zG\\x98\\x0b\\xc2\\x92\\x96_\\xbeP\\xf2=\\x9c\\x8c\\xd8\\x98$\\xd3\\x96\\x7fk8(4|OH\\x94\\x8c\\x11e\\tn\\xf9\\x0b,\\xfcK\\xdb\\x9f~r\\x11m\\xc9\\x08\\xc7\\xd8\\x03\\xf9Dl\\xa1\\x96\\x1fI9\\xdb*\\x16\\xc5\\x08\\x86\\x91\\xb8\\xc0f8\\x81\\xdf&\\x8c\\xc7H\\xc2#\\x9f\\x16\\xc7\\x1c\\x1d\\x83\\xde\\x98\\x16+\\xa5R\\xad\\x18#\\x92\\xf8^\\x82bP{}2!#\\xec\\r\\x95J\\x7f{\\xa9\\xbcO\\xe11\\x91B\\r\\x8c(\\xdfW\\xaa\\xb1%\\xa1\\xb1\\xe3\\xc3\\xb2B\\x88\\x85\\xe8R\\xee\\x1d!\\xda\\xf2a\\x9e1;\\x1e\\xe2{\\xd2\\xf7(\\x12\\x12~h\\xf9%\\xfd\\xe7\\x17\\xb7/\\x16\\xd1V&D\\xe5\\x06YCn\\xa0\\xff2\\xb9L`|X\\xd1s\\xf2\\xe9\\xc1j\\xd2 \\x08\\x83Z{\\xa5_\\x03\\xa8\\\\\\xc7\\xf5\\xeb\\xfdZ\\xbf\\xb6\\xd2\\xa7\\x01h4\\x82\\x95\\xa6\\xb6\\xd8:\\xeb\\x95n\\x90a\\rP\\xfa\\xd5\\xa1\\xbbW\\xefU\\xcb\\x16\\xde\\xd0_]\\xb3\\xb9\\x1d\\xaa\\x8f\\x85\\xd7\\xa0T\\x7f\\xb0\\x86\\x1f\\x0c\\xba\\xe0E\\x0b\\xafA)>\\\\\\xc3\\x87\\x9df\\xa7g\\xeb\\xd7\\xa0\\x14_[\\xc3\\xd7K\\xed^P\\xb7\\xf4kPDIr\\xb8\\x86.\\x85\\xb5jw\\xb9\\xda\\x15d\\xc2\\xe8\\x8e\\x13\\xde\\x0c\\x83A\\xbd\\x92)\\xcfQ\\x90\\r\\xab\\xecRSLX\"7\\xe5Z\\x8c\\xee2>\\x00\\x80\\x02R$I\\xe2\\xc9\\xc5\\x0cO\\xd0\\x08\\xb2\\xb8\\x8b(9\\xe0\\xc4\\xdb%\\xd3\\x08\\x12o\\x86\\x12&`\\xb8T)\\rJU\\xf8\\xaf>\\x81\\xfe\\xa6#\\x8a\\xb602\\xa4\\x95]`\\x89X\\x1bR\\xf6xb\\xc4\\xc9L\\xb6\\xfc+\\xa0\\xd57 /\\x9e={\\xfe\\xf0\\xe9\\xf3\\x87\\xbf=\\x7f\\xf4\\xe8\\xf9\\xc3_\\xb2\\xb9\\xb5*Kn\\x07%SS\\xee\\xd5\\x8f_\\xff\\xfd\\xfd\\x17\\xde_\\xbf\\xfe\\xf0\\xea\\xf17\\xe9\\xd4\\'\\xf1\\xc2\\xc4\\xbf\\xfc\\xf9\\xcb\\x97\\xbf\\xff\\xf1:\\xf5\\xb0\\xe2\\xdc\\x15/\\xbe}\\xf2\\xf2\\xe9\\x93\\x17\\xdf}\\xf5\\xe7O\\x8f\\x1d\\xda\\xdb\\x1c\\x1d\\x98\\xf0!\\x89\\xb1\\xf0\\xae\\xe1c\\xef&\\x8ba\\x81\\x0e\\xfb\\xf1\\x01?\\x9d\\xc40B\\xc4\\x92@\\x11\\xe8v\\xa8\\xee\\xcb\\xc8\\x02^[ \\xea\\xc2u\\xb0\\xed\\xc2\\xdb\\x1cX\\xc6\\x05\\xbc<\\xbfk\\xd9\\xba\\x1f\\xf1\\xb9$\\x8e\\x99\\xafF\\xb1\\x05\\xdcc\\x8cv\\x18w:\\xe0\\xaa\\x9a\\xcb\\xf0\\xf0p\\x9eL\\xdd\\x93\\xf3\\xb9\\x89\\xbb\\x89\\xd0\\x91k\\xee.J\\xac\\x00\\xf7\\xe73\\xa0W\\xe2R\\xd9\\x8d\\xb0e\\xe6\\r\\x8a\\x12\\x89\\xa68\\xc1\\xd2S\\xbf\\xb1C\\x8c\\x1d\\xab\\xbbC\\x88\\xe5\\xd7=2\\xe2L\\xb0\\x89\\xf4\\xee\\x10\\xaf\\x83\\x88\\xd3%Cr`%R.\\xb4Cb\\x88\\xcb\\xc2e \\x84\\xda\\xf2\\xcd\\xdem\\xaf\\xc3\\xa8k\\xd5=|d#a[ \\xea0~\\x88\\xa9\\xe5\\xc6\\xcbh.Q\\xecR9D15\\x1d\\xbe\\x8bd\\xe42r\\x7f\\xc1G&\\xae/$Dz\\x8a)\\xf3\\xfac,\\x84K\\xe6:\\x87\\xf5\\x1aA\\xbf\\n\\x0c\\xe3\\x0e\\xfb\\x1e]\\xc46\\x92Kr\\xe8\\xd2\\xb9\\x8b\\x183\\x91=v\\xd8\\x8dP<s\\xdaL\\x92\\xc8\\xc4~&\\x0e!E\\x91w\\x83I\\x17|\\x8f\\xd9;D=C\\x1cP\\xb21\\xdc\\xb7\\t\\xb6\\xc2\\xfdf\"\\xb8\\x05\\xe4j\\x9a\\x94\\'\\x88\\xfae\\xce\\x1d\\xb1\\xbc\\x8c\\x99\\xbd\\x1f\\x17t\\x82\\xb0\\x8be\\xda<\\xb6\\xd8\\xb5\\xcd\\x893;:\\xf3\\xa9\\x95\\xda\\xbb\\x18St\\x8c\\xc6\\x18{\\xb7>sX\\xd0a3\\xcb\\xe7\\xb9\\xd1W\"`\\x95\\x1d\\xecJ\\xac+\\xc8\\xceU\\xf5\\x9c`\\x01e\\x92\\xaak\\xd6)r\\x97\\x08+e\\xf7\\xf1\\x94m\\xb0goq\\x82x\\x16(\\x89\\x11\\xdf\\xa4\\xf9\\x1aD\\xddJ]8\\xe5\\x9cTz\\x9d\\x8e\\x0eM\\xe05\\x02\\xe5\\x1f\\xe4\\x8b\\xd3)\\xd7\\x05\\xe80\\x92\\xbb\\xbfI\\xeb\\x8d\\x08Yg\\x97z\\x16\\xee|]p+~o\\xb3\\xc7`_\\xde=\\xed\\xbe\\x04\\x19|j\\x19 \\xf6\\xb7\\xf6\\xcd\\x10Qk\\x82<a\\x86\\x08\\n\\x0c\\x17\\xdd\\x82\\x88\\x15\\xfe\\\\D\\x9d\\xabZl\\xee\\x94\\x9b\\xd8\\x9b6\\x0f\\x03\\x14FV\\xbd\\x13\\x93\\xe4\\x8d\\xc5\\xcf\\x89\\xb2\\'\\xfcw\\xca\\x1ew\\x01s\\x06\\x05\\x8f[\\xf1\\xfb\\x94:\\x9b(e\\xe7D\\x81\\xb3\\t\\xf7\\x1f,kzh\\x9e\\xdc\\xc0p\\x92\\xacs\\xd6yUs^\\xd5\\xf8\\xff\\xfb\\xaaf\\xd3^>\\xafe\\xcek\\x99\\xf3Z\\xc6\\xf5\\xf6\\xf5Aj\\x99\\xbc|\\x81\\xca&\\xef\\xf2\\xe8\\x9eO\\xbc\\xb1\\xe53!\\x94\\xee\\xcb\\x05\\xc5\\xbbBw}\\x04\\xbc\\xd1\\x8c\\x070\\xa8\\xdbQ\\xba\\'\\xb9j\\x01\\xce\"\\xf8\\x9a5\\x98,\\xdc\\x94#-\\xe3q&?\\'2\\xda\\x8f\\xd0\\x0cZCe\\xdd\\xc0\\x9c\\x8aL\\xf5Tx3&\\xa0c\\xa4\\x87u+\\x15\\x9f\\xd0\\xad\\xfbN\\xf3x\\x8f\\x8d\\xd3Ng\\xb9\\xac\\xba\\x9a\\xa9\\x0b\\x05\\x92\\xf9x)\\\\\\x8dC\\x97J\\xa6\\xe8Z=\\xef\\xde\\xad\\xd4\\xeb~\\xe8TwY\\x97\\x06(\\xd9\\xd3\\x18aLf\\x1bQu\\x18Q_\\x0eB\\x14^g\\x84^\\xd9\\x99X\\xd1tX\\xd1P\\xea\\x97\\xa1ZFq\\xe5\\n0m\\x15\\x15x\\xe5\\xf6\\xe0E\\xbd\\xe5\\x87A\\xdaA\\x86f\\x1c\\x94\\xe7c\\x15\\xa7\\xb4\\x99\\xbc\\x8c\\xae\\n\\xce\\x99Fz\\x933\\xa9\\x99\\x01Pb/3 \\x8ftS\\xd9\\xbaqyjui\\xaa\\xbdE\\xa4-#\\x8ct\\xb3\\x8d0\\xd20\\x82\\x17\\xe1,;\\xcd\\x96\\xfbY\\xc6\\xba\\x99\\x87\\xd42O\\xb9b\\xb9\\x1br3\\xea\\x8d\\x0f\\x11kE\"\\'\\xb8\\x81&&S\\xd0\\xc4;n\\xf9\\xb5j\\x08\\xb7*#4k\\xf9\\x13\\xe8\\x18\\xc3\\xd7x\\x06\\xb9#\\xd4[\\x17\\xa2S\\xb8v\\x19I\\x9en\\xf8wa\\x96\\x19\\x17\\xb2\\x87D\\x94:\\\\\\x93N\\xca\\x061\\x91\\x98{\\x94\\xc4-_-\\x7f\\x95\\r4\\xd1\\x1c\\xa2m+W\\x80\\x10>Z\\xe3\\x9a@+\\x1f\\x9bq\\x10t;\\xc8x2\\xc1#i\\x86\\xdd\\x18Q\\x9eN\\x1f\\x81\\xe1S\\xaep\\xfe\\xaa\\xc5\\xdf\\x1d\\xac$\\xd9\\x1c\\xc2\\xbd\\x1f\\x8d\\x8f\\xbd\\x03:\\xe77\\x11\\xa4XX/+\\x07\\x8e\\x89\\x80\\x8b\\x83r\\xea\\xcd1\\x81\\x9b\\xb0\\x15\\x91\\xe5\\xf9w\\xe2`\\xcah\\xd7\\xbc\\x8a\\xd29\\x94\\x8e#:\\x8bPv\\xa2\\x98d\\x9e\\xc25\\x89\\xae\\xcc\\xd1O+\\x1f\\x18O\\xd9\\x9a\\xc1\\xa1\\xeb.<\\x98\\xaa\\x03\\xf6\\xbdO\\xdd7\\x1f\\xd5\\xcas\\x06i\\xe6g\\xa6\\xc5*\\xea\\xd4t\\x93\\xe9\\x87;\\xe4\\r\\xab\\xf2C\\xd4\\xb2*\\xa5n\\xfdN-r\\xaek.\\xb9\\x0e\\x12\\xd5yJ\\xbc\\xe1\\xd4}\\x8b\\x03\\xc10-\\x9f\\xcc2MY\\xbcN\\xc3\\x8a\\xb3\\xb3Q\\xdb\\xb43,\\x08\\x0cO\\xd46\\xf8muF8=\\xf1\\xae\\'?\\xc8\\x9d\\xccZu@,\\xebJ\\x9d\\xf8\\xfa\\xca\\xdc\\xbc\\xd5f\\x07w\\x81<zp\\x7f8\\xa7R\\xe8PBo\\x97#(\\xfa\\xd2\\x1b\\xc8\\x946`\\x8b\\xdc\\x93Y\\x8d\\x08\\xdf\\xbc9\\'-\\xff~)l\\x07\\xddJ\\xd8-\\x94\\x1aa\\xbf\\x10T\\x83R\\xa1\\x11\\xb6\\xab\\x85v\\x18V\\xcb\\xfd\\xb0\\\\\\xeau*\\x0f\\xe0`\\x91Q\\\\\\x0e\\xd3\\xeb\\xfa\\x01\\\\a\\xd0Evi\\xaf\\xc7\\xd7.\\xee\\xe3\\xe5-\\xcd\\x85\\x11\\x8b\\x8bL_\\xcc\\x17\\xb5\\xe1\\xfa\\xe2\\xbe\\\\\\xd9|q\\xef\\x11 \\x9d\\xfb\\xb5\\xca\\xa0Ymvj\\x85f\\xb5=(\\x04\\xbdN\\xa3\\xd0\\xec\\xd6:\\x85^\\xad[\\xef\\rz\\xdd\\xb0\\xd1\\x1c<\\xf0\\xbd#\\r\\x0e\\xda\\xd5nP\\xeb7\\n\\xb5r\\xb7[\\x08j%e~\\xa3Y\\xa8\\x07\\x95J;\\xa8\\xb7\\x1b\\xfd\\xa0\\xfd +c`\\xe5)}d\\xbe\\x00\\xf7j\\xbb\\xb6\\xff\\x01\\x00\\x00\\xff\\xff\\x03\\x00PK\\x03\\x04\\x14\\x00\\x06\\x00\\x08\\x00\\x00\\x00!\\x00x{\\xb7r[\\x08\\x00\\x00VA\\x00\\x00\\r\\x00\\x00\\x00xl/styles.xml\\xc4\\\\\\xdbn\\xe36\\x10}/\\xd0\\x7f\\x10\\x04\\xf4\\xd1\\xd1\\xdd\\xb6\\x02\\xdb\\x8b\\xd8\\x89\\xda\\x05\\xb6\\xe9\\x02\\x9b\\xa2}\\x95e\\xd9a\\xa3\\x8b!\\xd1[\\xbbE\\xff\\xbdC\\xeaB2\\xbe\\xd1\\x89b\"\\xd8]K\\x11\\xcf\\x0cg\\x0e\\x0f\\xc9\\x91\\xb9\\xa3O\\xdb4\\xd1\\xbe\\xc7E\\x89\\xf2l\\xac[7\\xa6\\xae\\xc5Y\\x94/P\\xb6\\x1a\\xeb\\xbf?\\x05\\xbd\\xa1\\xae\\x958\\xcc\\x16a\\x92g\\xf1X\\xdf\\xc5\\xa5\\xfei\\xf2\\xe3\\x0f\\xa3\\x12\\xef\\x92\\xf8\\xdbs\\x1cc\\r \\xb2r\\xac?c\\xbc\\xbe5\\x8c2z\\x8e\\xd3\\xb0\\xbc\\xc9\\xd7q\\x06\\xbfY\\xe6E\\x1ab\\xb8,VF\\xb9.\\xe2pQ\\x92Fib\\xd8\\xa6\\xd97\\xd2\\x10ez\\x85p\\x9bF2 iX\\xbcl\\xd6\\xbd(O\\xd7!Fs\\x94 \\xbc\\xa3X\\xba\\x96F\\xb7\\x9fWY^\\x84\\xf3\\x04\\\\\\xddZn\\x18i[\\xab_\\xd8\\xda\\xb6h\\x8c\\xd0\\xbb{vR\\x14\\x15y\\x99/\\xf1\\r\\xe0\\x1a\\xf9r\\x89\\xa2x\\xdf]\\xdf\\xf0\\x8d0bH\\x80\\xfc6$\\xcb3L[\\xe8\\xfb\\xb6x#\\x92k\\x14\\xf1wD\\xd2\\xa7OF\\xcb<\\xc3\\xa5\\x16\\xe5\\x9b\\x0cC2!u\\xb4\\xb7\\xb7/Y\\xfew\\x16\\x90\\xdf\\xc1\\xdd\\xfa\\xb1\\xc9\\xa8\\xfcG\\xfb\\x1e&p\\xc7\\xd2\\x8d\\xc9(\\xca\\x93\\xbc\\xd00\\xe4\\x0eBG\\xefda\\x1aWO\\xcc\\xc2\\x04\\xcd\\x0bD\\x1e[\\x86)Jv\\xd5m\\x9b\\xdc\\xa0\\xe9\\xae\\x9fK\\x11\\x04\\x9f\\xdc4\\x88#\\x95;\\n\\xec\\x0c\\xf7\\xfa\\xe3\\x90;{\\xfd\\xd1\\xbe\\xa0\\xd53>\\xdf\\xab\\xf0\\xaf\\x03\\xbd\\x9a\\x93\\xbe7\\x11\\xf4$-\\xbe1\\x82\\x82-\\xda\\x17![\\x87{\\xd7\\x85\\xad}ftj\\xeb\\x10\\x03\\x8b\\xd5|\\xac\\x07\\x01h\\x83e\\x9a\\x07\\xd3\\xd6!\\rkc\\xfe\\xcc\\x04{W3\\xe6\\r\\xae\\xd63\\'p\\x82A\\xa7=\\x13\\xb8\\xc8\\xf1\\xa3\\x0e%1\\xe8\\x04]\\x86\\xf2\\x8c\\xc1\\xe0np\\x7f\\xb5pvo\\xecX\\xefj!\\xbe\\xd6\\x08 \\x03\\xae\\xdb(\"^\\x1f\\xf7y2\\x08\\xc8\\xcf5xr\\xe5)\\xad\\xa3\\x8c\\xd1\\x19\\xb4\\x84)\\x14%I;\\xa3;\\x0e\\x99\\xbc\\xe1\\xced\\x04k\\x1f\\x1c\\x17Y\\x00\\x17Z\\xfd\\xf9i\\xb7\\x86\\xa9;\\x83e\\x1a\\t\\xabQ=w\\xe6\\xe9U\\x11\\xee,\\x9bN_r\\r\\xca<A\\x0b\\xe2\\xc5jF\\x17\\x0c\\xf5\\xb0\\x9f\\xf5\\x1f\\x82\\xd9\\x03\\xb5\\xcby&\\xeb\\xc5\\x11\\xd0 \\x98\\r>\\x00\\xf4a\\xea\\xcf\\xba\\xf7t\\xe6\\xfb]\\x83\\xda\\x01\\xfct\\x0cz\\xe7\\x91\\x9f\\xce\\xbb\\x0f\\xa9\\xea,\\xa6\\xf5\\x80u\\xbbr\\xb2\\xc5\\xd30\"\\xebb\\xf3f\\xe0\\xfb\\xfe\\xd0\\xea\\x0f\\x87C\\xdfu,\\xd7\\xa5A\\x9e\\xd7\\x8cF\\xd9\"\\xde\\xc6\\x8b\\xb1\\xde\\xef,L\\xfb\\x1ex\\xe0\\x81\\xef\\x0c\\xfd\\xbe\\r\\x8e\\x98\\xee\\x90\\x9a\\xba\\xaa\\x07\\x0e80\\xf0\\xbc\\xa1g\\xf9\\xb6\\x0b\\x7f\\xa8D\\x7f\\xbc\\x07]\\xc7\\xd4\\xd3Ug\\x95\\xf3@QV9\\x0f\\x14e\\x95\\xae0\\x8d\\x0e\\x94\\xbf\\x1e)}\\xe5Y\\xe5<P\\x94U\\xce\\x03EY\\x1dt\\xac\\xc0\\x03\\xe5Y\\xe5<P\\x94U\\xce\\x03EY\\xa5\\xd5\\x91\\x0e\\xc7*T\\x99\\x14\\xcf\\xab\\x9c\\x07\\x8a\\xb2\\xcay\\xa0(\\xab\\x9d->k\\x05\\xf6\\x95g\\x95\\xf3@QV9\\x0f\\xde\\x9dU\\xba\\xbb\\x82\\xfd\\xdc</\\x16Pmok\\xb4&\\xec\\xa5\\xaa{\\x93Q\\x12/1\\xec\\xdc\\nR\\x95\\x84\\x7fq\\xbe\\x86\\xbf\\xe79\\xc6P\\x92\\x9e\\x8c\\x16(\\\\\\xe5Y\\x98\\x90\\xbd]\\xd3B\\xa2%T\\xef\\xa1P?\\xd6\\xf13\\x8a^\\xc0\\x98P9\\xac\\xd6\\xd8\\x95\\x89\\x8f\\xb2\\xd0\\xaa\\x83KV\\xdd\\xee\\xc05\\x07\\xaeg\\xf7\\xab\\x8dMG\\xa6\\xd3x\\x816\\xe9~\\xefZ\\xdb\\x07\\xf3\\x07a$\\xb1=\\xdfq.\\x86\\xa4\\xca^\\x85\\xb0\\xde\\xf9\\xb2B\\x86A\\xf2W\\xa7O\\xb2\\x05M5\\xcd\\xb4d\\x03\\xe0DC\\t\\xc9\\x16]\\xf4\\x91\\x15\\xf5d\\xfb\\xc8\\xb5\\x90\\xeb#\\xd7@\\xb2\\x8f\\\\\\x8b\\x8eX\\xb4\\xc87\\xf0\\xe2\\xe8u\\x82\\x83`h\\x9atwt1_\\x0e\\x03\\x9e\\x8e\\xe6\\xd96\\xfb\\xf1<\\xdb\\xe4@D\\xcf\\xb6\\xe9\\x827S\\x9b\\xfc\\xd0U\\xa4\\xe4\\xd8\\xe0Z\\xc8\\xf1\\x86k \\xc9\\x1b\\xae\\xc5\\xdbxsp\\xe0\\tE\\x8b\\xf3\\xf1\\x16\\x1e?\\xe5F-\\xf50sDq\\x92|#Z\\xfe\\xe7\\xb2\\x9d>\\xa0r1\\x19m\\x97Z\\xb6I\\x83\\x14\\x7f\\x86\\xa2\\x05\\xbc\\xbf%\\xef\\xde\\x9a\\x8fP\\x1e\\xac?VSEu\\x01S\\xc8\\xb1F6\\xb4?\\xdcH\\x0b\\xd7\\xebd\\xf7\\xb8I\\xe7q\\x11\\xd0\\x97\\xba\\xd4\\x1a\\xbdK\\xca\\x90\\xecjJ\\xe78v}\\x97\\xa0U\\x96\\xc6\\xb4\\xf6\\xa2W0_\\x8b\\x1c\\xc7\\x11\\xa6/\\x9di\\xc5\\xf4\\x98?\\xce\\x11\\x7f\\xac\\x1aH\\xc6\\x9f\\xf7\\xd8w\\x8f\\xd8\\x878I\\xc7\\xe3=\\xf6ao\\x7f0\\x1f\\x10\\x17\\xa5\\xf6\\x81gJ\\xf8\\x00\\xbb\\xe2&\\x1e\\x90\\x02\\x9e\\xd4\\xa7\\xfc\\xe9\\x92\\x91\\xb0\\x83k<\\x80$\\xa8\\xf0\\x00v\\x1b\\x8d\\x07@O\\x15\\x1e\\xc0\\xca\\xb8\\xf1\\x00\\x08\\xca<\\x00wN\\xb0\\xe2=\\xe3\\xc0\"\\xc2V\\x0b\\x13p\\x80\\x99\\x04\\xfb\\x1fe\\x124\\xe6\\xa0\\xc9\\x0f\\xec\\xe51\\xf9\\x85._e\\xb8[\\x9c\\xde\\x02\\xd1Y\\x98\\xe1\\xe2\\xa3\\xc2|LbUI\\x0c\\x97v\\x18i,\\x04pq*\\x070\\xebv3\\xe5Y\\xc74_Y@8\\xd1\\x05\\x1fXD@\\x06\\xae\\xc3JNs\\xc1\\xa6\\n\\xc5\\xe3HA\\xa4H\\xb5\\x0b\\xe0\\x8ej\\x17\\x14M\\xbf\\x16\\xc7\\x05\\xa2V\\xaa\\xc3\\xa0h\\x06\\xe6\\xf9(L\\xc1\\xa7E\\xa2\\xcb\\x85\\x10\\xef\\x820%_\\xd1\\x05\\x9e\\x0c\\xc2|\\xa5&\\x0c\\xc2|\\xa1\\xc6\\x05\\xf5\\xfah\\xab\\xd2G\\x8e\\x0c\\xf0:[\\xb52\\xd8\\xaa\\x04\\x92\\xdb!\\xa9\\xd7G[\\x95>\\xf2dP/\\x90\\xb6*\\x81\\xe4\\xc8\\xa0^\\x1fmU\\xfa\\xc8\\x93A\\xbd@:\\xea\\x17\\x90\\x8ez}t>X\\x1f\\r\\xbe`Z\\x95O\\xb9\\xca)9\\x06qy\\xe1T\\xdb.\\xdb\\n*\\xc5\\x07D\\xae2+\\xd6e[\\xfb\\x1a9y0\\xd6m\\xf3\\'\\xad\\xa7\\xddE\\x11TB!\\xfc\\x15\\x94E\\xe8\\xb8A\\t\\xbcB\\'\\xc8\\x84\\x1a\\xd1\\xa6\\x84\\xb7R\\xd3\\xeaf}\\x16\\xe3\\x14\\x16\\xc4\\xb1\\xc2\\xb2\\x89\\xdcsX \\xbd\\x97b\\x01B\\x8dE\\xd4\\x82\\xc3\\x82\\x91{)\\x16\\x98\\xaf\\xb0(\\xd9\\x18\\x16\\x14\\xad/\\xc6\\x02\\x05\\xaf\\xb1\\x88\\x96sX\\xa0\\xab\\x97\\xfa\\x05Mj,1\\xf6\\x9ed\\xec\\xddCy\\xa4\\x8b\\x1e.^\\x90`\\x19\\xbfx,\\x96G2grX\\xd0\\xe5K\\xb1X\\x1e\\x89\\xe4rX\\xd0\\xe5K\\xb1X\\x1e\\xc9\\x88\\xe5b\\x0fF.\\xc5by$\\x13\"\\x87\\x05t\\xbb\\x14\\xab\\xcd\\xa3K\\xf4\\x94ay\\x92\\xb1\\xef\\x1f\\xcc#\\x11F.^\\x92\\\\\\xe5\\xb1X\\x1eE\\xae:\\x92\\\\\\xe5\\xb1X\\x1eE\\xae\\x92.\\xcb\\xc4\\x8b\\xc7by\\x14u\\xc2\\x95\\xd4\\t\\x1e\\x8b\\xe5Q\\xd4\\tWR\\'x,\\x96G1\\xf6\\x9ed\\xec_+\\xaa\\xc8x[\\x92\\xf1\\x15\\n\\xcb\\x9d\\xc8u\\xf8\\xe6\\xbdT\\xbc+\\x14\\x965\\x91\\xe5\\x8e$\\xcb+\\x14\\x96/\\x91\\xdf\\xae$\\xbf+\\x14\\x96)QU\\\\IU\\xa9P\\x98f\\x8a\\xd1u%\\xa3;\\r\\x17\\x8d\\xea\\x8a\\x84\\xb1%C\\x02G\\x10\\xa3M\\x02\\x07>\\xe1\\x9cc3u\\x8at!\\xfb-\\x99!1{\\x8e\\xa3\\x17m\\x06oS[ q<\\x90iT\\x06\\xe8a\\xbbN\\xc2,\\xc4y\\xb1\\xd3\\x9e\\xe2-n\\xe1\\xc4\\xa4{\\x92p?\\xe7y\\x1b#\\x11\\x81l\\x1ed\\x1c\\xfa\\x05\\x0e\\xd7\\xc2\\xb9]\\xad]\\\\\\x88\\x1c\\xb6.\\x84i\\xc7\\x82\\x18\\x1eR\\x80\\xbb\\xc4\\x9bv0\\x88\\xfc#\\xa7S/\\x81iG\\x83(\\xaad\\xfd$\\x03\\xf39[o\\xda\\x0c\\x89ZJ\\xa6n\\x19\\x88/({\\x89\\x17\"s\\xc4\\x08\\x93\\xcd\\xae\\x0c\\xd2c\\xbc\\xc1E\\xd8\\xf2\\xef\\x95`I\\x06\\xe6\\x91\\xbc\\x83o1D\\x89\\xa0\\xaf\\xd4_\\xaf\\x19\\x1f\\xe1\\x95{\\xcb\\xd1WQ\\x94\\x0c\\xc1o\\x1b\\xcc\\x85\\x91\\x16\\xc2\\xd9\\\\Ij.2\\xbd\\x7fB\\x18\\xbee\\xd3\\x0cba\\xba%\\xaf>\\xa4 r\\xcc\\xbaN\\x08\\xc9M\\xd9p\\x9aI\\n\\xe3\\x8f\\xb0\\xc8\\xc8h\\x11\\x86\\xee+\\x8e\\x1e\\xe9\\x11\\xdbZ\\xc0\\xea\\x7f\\xb1e\\xdf\\xc7\\xa0q\\xc7\\xe4\\xf89\\xfd\\xa6F\\xbb\\x1f\\x80\\xf0.\\xe2e\\xb8I\\xf0S\\xfb\\xcb\\xb1\\xce>\\xffJ\\xbf\\xbf\\x06d\\xaa\\x9f\\xfa\\x8a\\xbe\\xe7\\x98B\\x8cu\\xf6\\x99\\x1eW\\x86Q\\x0c_\\xdf\\x00\\xb9\\xf9R\\xc2\\x97\\xcd\\xe0_mS\\xa0\\xb1\\xfe\\xef\\xc3t\\xe0\\xdf?\\x04vohN\\x87=\\xd7\\x89\\xbd\\x9e\\xefM\\xef{\\x9e;\\x9b\\xde\\xdf\\x07\\xbei\\x9b\\xb3\\xff\\xb8C\\xf0\\xef8\\x02O\\xcf\\xec\\xc3\\xf6\\xc9ro\\xcb\\x04\\x0e\\xca\\x17ugk\\xe7\\xbf\\xb1{c\\x9d\\xbb\\xa8\\xdc\\xa7\\xdf\\x06\\x02\\xb7y\\xdf}\\xbbo\\xdey\\x96\\xd9\\x0b\\x1c\\xd3\\xea\\xb9\\xfdp\\xd8\\x1b\\xf6\\x1d\\xaf\\x17x\\x96}\\xdfw\\xa7\\x0f^\\xe0q\\xbe{o<*o\\x1a\\x96U\\x1d\\xba\\'\\xce{\\xb7\\x18\\xa5q\\x82\\xb2&WM\\x86\\xf8\\xbb\\x90$\\xb8<\\xd1\\t\\xa3\\xc9\\x84\\xc1\\xfeC\\x84\\xc9\\xff\\x00\\x00\\x00\\xff\\xff\\x03\\x00PK\\x03\\x04\\x14\\x00\\x06\\x00\\x08\\x00\\x00\\x00!\\x00\\x9f\\x8bQR\\xbb\\x00\\x00\\x00\\x16\\x01\\x00\\x00\\x14\\x00\\x00\\x00xl/sharedStrings.xmll\\x8f\\xcbJ\\x041\\x10E\\xf7\\x82\\xff\\x10j\\xdf\\x93VPD\\x92\\xccB\\x10\\xf7*\\xaeC\\xe7:\\x1d\\xe8T2\\xa9j\\x1f\\x7fo\\x8b\\x88 \\xb3<\\xe7p\\x17\\xd7\\xed?\\xcab\\xde\\xd0%W\\xf6t\\xb1\\x1b\\xc9\\x80\\xa7\\x9a2\\x1f<=?\\xdd\\x0f7dD#\\xa7\\xb8T\\x86\\xa7O\\x08\\xed\\xc3\\xf9\\x99\\x13Q\\xb3mY<\\xcd\\xaa\\xed\\xd6Z\\x99f\\x94(\\xbb\\xda\\xc0[y\\xad\\xbdD\\xdd\\xb0\\x1f\\xac\\xb4\\x8e\\x98d\\x06\\xb4,\\xf6r\\x1c\\xafm\\x89\\x99\\xc9Lue\\xf5tEf\\xe5|\\\\q\\xf7\\xcb\\xc1I\\x0eN\\xc3C\\xec\\x89!\\xe2\\xac\\x06g\\xbf\\xdd\\x8f\\x7f\\x1c\\x14\\xa5\\x9d\\xb0\\xb9\\xe0\\xbf}\\xc12\\xb4\\xfa\\x8e~*H\\x03\\xd2_\\xb0\\xdb\\xaf\\xf0\\x05\\x00\\x00\\xff\\xff\\x03\\x00PK\\x03\\x04\\x14\\x00\\x06\\x00\\x08\\x00\\x00\\x00!\\x00\\xa4\\x02\\x04\\xedE\\x01\\x00\\x00[\\x02\\x00\\x00\\x11\\x00\\x08\\x01docProps/core.xml \\xa2\\x04\\x01(\\xa0\\x00\\x01\\x00\\x00\\x00\\x00\\x00\\x00\\x00\\x00\\x00\\x00\\x00\\x00\\x00\\x00\\x00\\x00\\x00\\x00\\x00\\x00\\x00\\x00\\x00\\x00\\x00\\x00\\x00\\x00\\x00\\x00\\x00\\x00\\x00\\x00\\x00\\x00\\x00\\x00\\x00\\x00\\x00\\x00\\x00\\x00\\x00\\x00\\x00\\x00\\x00\\x00\\x00\\x00\\x00\\x00\\x00\\x00\\x00\\x00\\x00\\x00\\x00\\x00\\x00\\x00\\x00\\x00\\x00\\x00\\x00\\x00\\x00\\x00\\x00\\x00\\x00\\x00\\x00\\x00\\x00\\x00\\x00\\x00\\x00\\x00\\x00\\x00\\x00\\x00\\x00\\x00\\x00\\x00\\x00\\x00\\x00\\x00\\x00\\x00\\x00\\x00\\x00\\x00\\x00\\x00\\x00\\x00\\x00\\x00\\x00\\x00\\x00\\x00\\x00\\x00\\x00\\x00\\x00\\x00\\x00\\x00\\x00\\x00\\x00\\x00\\x00\\x00\\x00\\x00\\x00\\x00\\x00\\x00\\x00\\x00\\x00\\x00\\x00\\x00\\x00\\x00\\x00\\x00\\x00\\x00\\x00\\x00\\x00\\x00\\x00\\x00\\x00\\x00\\x00\\x00\\x00\\x00\\x00\\x00\\x00\\x00\\x00\\x00\\x00\\x00\\x00\\x00\\x00\\x00\\x00\\x00\\x00\\x00\\x00\\x00\\x00\\x00\\x00\\x00\\x00\\x00\\x00\\x00\\x00\\x00\\x00\\x00\\x00\\x00\\x00\\x00\\x00\\x00\\x00\\x00\\x00\\x00\\x00\\x00\\x00\\x00\\x00\\x00\\x00\\x00\\x00\\x00\\x00\\x00\\x00\\x00\\x00\\x00\\x00\\x00\\x00\\x00\\x00\\x00\\x00\\x00\\x00\\x00\\x00\\x00\\x00\\x00\\x00\\x00\\x00\\x00\\x00\\x00\\x00\\x00\\x00\\x00\\x00\\x00\\x00\\x00\\x00\\x00\\x00\\x00\\x00\\x00\\x00\\x00\\x00\\x00\\x00\\x00\\x00\\x00\\x00\\x00\\x8c\\x92\\xc1N\\xc30\\x10D\\xefH\\xfcC\\xe4{\\xe28mQk%\\xa9\\x04\\xa8\\'*!\\x11\\x04\\xea\\xcd\\xd8\\xdb6jb[\\xb6!\\xed\\xdf\\xe3$m\\x08*\\x07\\x8e\\xde\\x99};\\xbbr\\xba<\\xd6U\\xf0\\x05\\xc6\\x96Jf\\x88D1\\n@r%J\\xb9\\xcb\\xd0k\\xb1\\n\\xe7(\\xb0\\x8eI\\xc1*%!C\\'\\xb0h\\x99\\xdf\\xde\\xa4\\\\S\\xae\\x0c<\\x1b\\xa5\\xc1\\xb8\\x12l\\xe0I\\xd2R\\xae3\\xb4wNS\\x8c-\\xdfC\\xcdl\\xe4\\x1d\\xd2\\x8b[ej\\xe6\\xfc\\xd3\\xec\\xb0f\\xfc\\xc0v\\x80\\x938\\xbe\\xc358&\\x98c\\xb8\\x05\\x86z \\xa23R\\xf0\\x01\\xa9?M\\xd5\\x01\\x04\\xc7PA\\r\\xd2YL\"\\x82\\x7f\\xbc\\x0eLm\\xffl\\xe8\\x94\\x91\\xb3.\\xddI\\xfb\\x9d\\xceq\\xc7l\\xc1{qp\\x1fm9\\x18\\x9b\\xa6\\x89\\x9aI\\x17\\xc3\\xe7\\'\\xf8}\\xfd\\xf4\\xd2\\xad\\x1a\\x96\\xb2\\xbd\\x15\\x07\\x94\\xa7\\x82Sn\\x809e\\xf2\\xcd\\x87R\\x87\\x14\\x8f*\\xed\\xf5*f\\xdd\\xda\\x1fz[\\x82\\xb8?]L\\xd7\\x82\\'u\\xc1{\\x1c\\x88\\xc0G\\xa1}\\xf0\\x8b\\xf26yx,V(Ob\\xb2\\x08\\t\\t\\xc9\\xa2H\\x08M\\xa6t\\x16o\\xda\\xb9\\xbf\\xfa\\xdbh}\\xa1>O\\xff\\x071\\x99\\x16\\xf1\\x9cNf4\\x99\\x8f\\x88\\x17@\\x9e\\xe2\\xab\\xef\\x90\\x7f\\x03\\x00\\x00\\xff\\xff\\x03\\x00PK\\x03\\x04\\x14\\x00\\x06\\x00\\x08\\x00\\x00\\x00!\\x007\\x99V$\\x83\\x01\\x00\\x00\\x00\\x03\\x00\\x00\\x10\\x00\\x08\\x01docProps/app.xml \\xa2\\x04\\x01(\\xa0\\x00\\x01\\x00\\x00\\x00\\x00\\x00\\x00\\x00\\x00\\x00\\x00\\x00\\x00\\x00\\x00\\x00\\x00\\x00\\x00\\x00\\x00\\x00\\x00\\x00\\x00\\x00\\x00\\x00\\x00\\x00\\x00\\x00\\x00\\x00\\x00\\x00\\x00\\x00\\x00\\x00\\x00\\x00\\x00\\x00\\x00\\x00\\x00\\x00\\x00\\x00\\x00\\x00\\x00\\x00\\x00\\x00\\x00\\x00\\x00\\x00\\x00\\x00\\x00\\x00\\x00\\x00\\x00\\x00\\x00\\x00\\x00\\x00\\x00\\x00\\x00\\x00\\x00\\x00\\x00\\x00\\x00\\x00\\x00\\x00\\x00\\x00\\x00\\x00\\x00\\x00\\x00\\x00\\x00\\x00\\x00\\x00\\x00\\x00\\x00\\x00\\x00\\x00\\x00\\x00\\x00\\x00\\x00\\x00\\x00\\x00\\x00\\x00\\x00\\x00\\x00\\x00\\x00\\x00\\x00\\x00\\x00\\x00\\x00\\x00\\x00\\x00\\x00\\x00\\x00\\x00\\x00\\x00\\x00\\x00\\x00\\x00\\x00\\x00\\x00\\x00\\x00\\x00\\x00\\x00\\x00\\x00\\x00\\x00\\x00\\x00\\x00\\x00\\x00\\x00\\x00\\x00\\x00\\x00\\x00\\x00\\x00\\x00\\x00\\x00\\x00\\x00\\x00\\x00\\x00\\x00\\x00\\x00\\x00\\x00\\x00\\x00\\x00\\x00\\x00\\x00\\x00\\x00\\x00\\x00\\x00\\x00\\x00\\x00\\x00\\x00\\x00\\x00\\x00\\x00\\x00\\x00\\x00\\x00\\x00\\x00\\x00\\x00\\x00\\x00\\x00\\x00\\x00\\x00\\x00\\x00\\x00\\x00\\x00\\x00\\x00\\x00\\x00\\x00\\x00\\x00\\x00\\x00\\x00\\x00\\x00\\x00\\x00\\x00\\x00\\x00\\x00\\x00\\x00\\x00\\x00\\x00\\x00\\x00\\x00\\x00\\x00\\x00\\x00\\x00\\x00\\x00\\x00\\x00\\x00\\x00\\x00\\x00\\x00\\x00\\x00\\x00\\x00\\x9c\\x92KO\\xe30\\x14\\x85\\xf7H\\xfc\\x87\\xc8{\\xea\\x04F\\x08U\\x8e\\xd1\\x88\\x87X\\x0c\\xa2R[X\\x8e\\xee87\\x8d\\x85kG\\xbe\\x97\\xa8\\x9d_?N\"J\\n\\xacfw\\x1fG\\xc7\\x9f\\x8f\\xad\\xaew[\\x97u\\x18\\xc9\\x06_\\x8ab\\x96\\x8b\\x0c\\xbd\\t\\x95\\xf5\\x9bR\\xacW\\xf7gW\"#\\x06_\\x81\\x0b\\x1eK\\xb1G\\x12\\xd7\\xfa\\xf4D-bh1\\xb2E\\xca\\x92\\x85\\xa7R4\\xcc\\xed\\\\J2\\rn\\x81fi\\xed\\xd3\\xa6\\x0eq\\x0b\\x9c\\xda\\xb8\\x91\\xa1\\xae\\xad\\xc1\\xdb`\\xde\\xb6\\xe8Y\\x9e\\xe7\\xf9\\xa5\\xc4\\x1d\\xa3\\xaf\\xb0:k\\x0f\\x86bt\\x9cw\\xfc\\xbf\\xa6U0=\\x1f=\\xaf\\xf6m\\x02\\xd6\\xeag\\xdb:k\\x80\\xd3-\\xf5\\xa351P\\xa89\\xbb\\xdb\\x19tJN\\x97*\\xd1-\\xd1\\xbcE\\xcb{\\x9d+9m\\xd5\\xd2\\x80\\xc3\\x9bd\\xackp\\x84J~\\x0c\\xd4\\x03B\\x1f\\xda\\x02l$\\xad:\\x9ewh8\\xc4\\x8c\\xec\\xdf\\x14\\xdb\\xb9\\xc8\\xfe\\x00a\\x8fS\\x8a\\x0e\\xa2\\x05\\xcf\\t\\xab\\x97\\x8d\\xcdP\\xbb\\x968\\xea\\x97\\x10_\\xa9AdR2\\t\\xc6\\xe1PN\\xb5\\xd3\\xda\\xfe\\xd0\\xc5 H\\xc5\\xb1\\xb07\\x18A\\xd2\\xe2\\x18qe\\xd9!=\\xd5\\x0b\\x88\\xfc\\rq1%\\x1e\\x18F\\xde\\x11\\xa7\\x02\\x86\\xdfE\\x9e\\x02\\xfaD8\\\\:\\x9d\\xf5\\xc9\\xfd\\x97\\xf5\\xaf\\xb4nW\\xe1\\x16\\x18\\xdf\\xd3;\\x1e\\xaae\\x03\\x11\\xab\\x14\\xf8!\\xdd\\xc3@=\\xa4\\xe0\\xa2\\xebMn\\x1a\\xf0\\x1b\\xac\\xde5_\\x17\\xfd[?\\x8f\\x1fZ\\x17\\x97\\xb3\\xfc\\xa2\\xa7\\x9c\\xcc\\x94\\xfc\\xf8\\xba\\xfa\\x1f\\x00\\x00\\x00\\xff\\xff\\x03\\x00PK\\x03\\x04\\x14\\x00\\x06\\x00\\x08\\x00\\x00\\x00!\\x00\\xeb9\\xb9\\xf7\\r\\x01\\x00\\x00\\x8d\\x01\\x00\\x00\\x13\\x00\\x08\\x01docProps/custom.xml \\xa2\\x04\\x01(\\xa0\\x00\\x01\\x00\\x00\\x00\\x00\\x00\\x00\\x00\\x00\\x00\\x00\\x00\\x00\\x00\\x00\\x00\\x00\\x00\\x00\\x00\\x00\\x00\\x00\\x00\\x00\\x00\\x00\\x00\\x00\\x00\\x00\\x00\\x00\\x00\\x00\\x00\\x00\\x00\\x00\\x00\\x00\\x00\\x00\\x00\\x00\\x00\\x00\\x00\\x00\\x00\\x00\\x00\\x00\\x00\\x00\\x00\\x00\\x00\\x00\\x00\\x00\\x00\\x00\\x00\\x00\\x00\\x00\\x00\\x00\\x00\\x00\\x00\\x00\\x00\\x00\\x00\\x00\\x00\\x00\\x00\\x00\\x00\\x00\\x00\\x00\\x00\\x00\\x00\\x00\\x00\\x00\\x00\\x00\\x00\\x00\\x00\\x00\\x00\\x00\\x00\\x00\\x00\\x00\\x00\\x00\\x00\\x00\\x00\\x00\\x00\\x00\\x00\\x00\\x00\\x00\\x00\\x00\\x00\\x00\\x00\\x00\\x00\\x00\\x00\\x00\\x00\\x00\\x00\\x00\\x00\\x00\\x00\\x00\\x00\\x00\\x00\\x00\\x00\\x00\\x00\\x00\\x00\\x00\\x00\\x00\\x00\\x00\\x00\\x00\\x00\\x00\\x00\\x00\\x00\\x00\\x00\\x00\\x00\\x00\\x00\\x00\\x00\\x00\\x00\\x00\\x00\\x00\\x00\\x00\\x00\\x00\\x00\\x00\\x00\\x00\\x00\\x00\\x00\\x00\\x00\\x00\\x00\\x00\\x00\\x00\\x00\\x00\\x00\\x00\\x00\\x00\\x00\\x00\\x00\\x00\\x00\\x00\\x00\\x00\\x00\\x00\\x00\\x00\\x00\\x00\\x00\\x00\\x00\\x00\\x00\\x00\\x00\\x00\\x00\\x00\\x00\\x00\\x00\\x00\\x00\\x00\\x00\\x00\\x00\\x00\\x00\\x00\\x00\\x00\\x00\\x00\\x00\\x00\\x00\\x00\\x00\\x00\\x00\\x00\\x00\\x00\\x00\\x00\\x00\\x00\\x00\\x00\\x00\\x00\\x00\\x00\\x00\\x00\\x00\\x00\\x00\\x00\\x9c\\x90\\xcbN\\xc30\\x10E\\xf7H\\xfc\\x83\\xe5\\xbdk\\xc7ih\\\\%\\xa9h\\xd2\\xb2eQ`\\x1d\\x9cI\\x1b\\xb5~\\xc8v\\x02\\x15\\xe2\\xdfq\\xc5\\xa3{\\x96\\xa3{ut\\xee\\x14\\xabwuB\\x138?\\x18]\\xe2d\\xc60\\x02-M7\\xe8}\\x89\\x9fv[\\x92c\\xe4C\\xab\\xbb\\xf6d4\\x94\\xf8\\x0c\\x1e\\xaf\\xaa\\xdb\\x9b\\xe2\\xd1\\x19\\x0b.\\x0c\\xe0QDh_\\xe2C\\x08vI\\xa9\\x97\\x07P\\xad\\x9f\\xc5X\\xc7\\xa47N\\xb5!\\x9enOM\\xdf\\x0f\\x12\\x1a#G\\x05:P\\xce\\xd8\\x1d\\x95\\xa3\\x0fF\\x11\\xfb\\x87\\xc3\\xdf\\xbc\\xe5\\x14\\xfe\\x8b\\xec\\x8c\\xbc\\xd8\\xf9\\xe7\\xdd\\xd9F\\xdd\\xaa\\xf8\\x81\\x9fQ\\xaf\\xc2\\xd0\\x95\\xf8\\xa3\\xc9\\xea\\xa6\\xc9XF\\xf8F\\xd4$a\\xc9\\x9a\\x88T,\\x08\\xcb\\x19\\xe3k^o\\xc5\\xfd\\xe6\\x13#{)s\\x8ct\\xab\\xe2\\xf4\\x17\\xe3\\x8e\\xaf\\xc6\\x1c\\x1f\\xc6\\xa1\\x8b\\xd0),O\\xf6\\xcd\\x07W\\xe5\\x02:\\xc89#\\\\$\\t\\x99\\xa7\\xe9\\x9c\\xe4\\x82\\t\"A\\x80\\x94|\\x91/2V\\xd0k\\xbf\\xa0\\xbfBUA\\xaf\\x7f\\xac\\xbe\\x00\\x00\\x00\\xff\\xff\\x03\\x00PK\\x01\\x02-\\x00\\x14\\x00\\x06\\x00\\x08\\x00\\x00\\x00!\\x00\\xa7\\x0c\\xebyh\\x01\\x00\\x00\\r\\x05\\x00\\x00\\x13\\x00\\x00\\x00\\x00\\x00\\x00\\x00\\x00\\x00\\x00\\x00\\x00\\x00\\x00\\x00\\x00\\x00[Content_Types].xmlPK\\x01\\x02-\\x00\\x14\\x00\\x06\\x00\\x08\\x00\\x00\\x00!\\x00\\x13^\\xbee\\x02\\x01\\x00\\x00\\xdf\\x02\\x00\\x00\\x0b\\x00\\x00\\x00\\x00\\x00\\x00\\x00\\x00\\x00\\x00\\x00\\x00\\x00\\xa1\\x03\\x00\\x00_rels/.relsPK\\x01\\x02-\\x00\\x14\\x00\\x06\\x00\\x08\\x00\\x00\\x00!\\x00\\xc4\\xe4\\xb6\\xbe\\x9a\\x02\\x00\\x00\\x11\\x06\\x00\\x00\\x0f\\x00\\x00\\x00\\x00\\x00\\x00\\x00\\x00\\x00\\x00\\x00\\x00\\x00\\xd4\\x06\\x00\\x00xl/workbook.xmlPK\\x01\\x02-\\x00\\x14\\x00\\x06\\x00\\x08\\x00\\x00\\x00!\\x00\\x81>\\x94\\x97\\xf3\\x00\\x00\\x00\\xba\\x02\\x00\\x00\\x1a\\x00\\x00\\x00\\x00\\x00\\x00\\x00\\x00\\x00\\x00\\x00\\x00\\x00\\x9b\\t\\x00\\x00xl/_rels/workbook.xml.relsPK\\x01\\x02-\\x00\\x14\\x00\\x06\\x00\\x08\\x00\\x00\\x00!\\x00-\\xe3\\xa7\\xc14\\x05\\x00\\x00<\\x19\\x00\\x00\\x18\\x00\\x00\\x00\\x00\\x00\\x00\\x00\\x00\\x00\\x00\\x00\\x00\\x00\\xce\\x0b\\x00\\x00xl/worksheets/sheet1.xmlPK\\x01\\x02-\\x00\\x14\\x00\\x06\\x00\\x08\\x00\\x00\\x00!\\x00\\xc1\\x17\\x10\\xbeN\\x07\\x00\\x00\\xc6 \\x00\\x00\\x13\\x00\\x00\\x00\\x00\\x00\\x00\\x00\\x00\\x00\\x00\\x00\\x00\\x008\\x11\\x00\\x00xl/theme/theme1.xmlPK\\x01\\x02-\\x00\\x14\\x00\\x06\\x00\\x08\\x00\\x00\\x00!\\x00x{\\xb7r[\\x08\\x00\\x00VA\\x00\\x00\\r\\x00\\x00\\x00\\x00\\x00\\x00\\x00\\x00\\x00\\x00\\x00\\x00\\x00\\xb7\\x18\\x00\\x00xl/styles.xmlPK\\x01\\x02-\\x00\\x14\\x00\\x06\\x00\\x08\\x00\\x00\\x00!\\x00\\x9f\\x8bQR\\xbb\\x00\\x00\\x00\\x16\\x01\\x00\\x00\\x14\\x00\\x00\\x00\\x00\\x00\\x00\\x00\\x00\\x00\\x00\\x00\\x00\\x00=!\\x00\\x00xl/sharedStrings.xmlPK\\x01\\x02-\\x00\\x14\\x00\\x06\\x00\\x08\\x00\\x00\\x00!\\x00\\xa4\\x02\\x04\\xedE\\x01\\x00\\x00[\\x02\\x00\\x00\\x11\\x00\\x00\\x00\\x00\\x00\\x00\\x00\\x00\\x00\\x00\\x00\\x00\\x00*\"\\x00\\x00docProps/core.xmlPK\\x01\\x02-\\x00\\x14\\x00\\x06\\x00\\x08\\x00\\x00\\x00!\\x007\\x99V$\\x83\\x01\\x00\\x00\\x00\\x03\\x00\\x00\\x10\\x00\\x00\\x00\\x00\\x00\\x00\\x00\\x00\\x00\\x00\\x00\\x00\\x00\\xa6$\\x00\\x00docProps/app.xmlPK\\x01\\x02-\\x00\\x14\\x00\\x06\\x00\\x08\\x00\\x00\\x00!\\x00\\xeb9\\xb9\\xf7\\r\\x01\\x00\\x00\\x8d\\x01\\x00\\x00\\x13\\x00\\x00\\x00\\x00\\x00\\x00\\x00\\x00\\x00\\x00\\x00\\x00\\x00_\\'\\x00\\x00docProps/custom.xmlPK\\x05\\x06\\x00\\x00\\x00\\x00\\x0b\\x00\\x0b\\x00\\xc1\\x02\\x00\\x00\\xa5)\\x00\\x00\\x00\\x00'}"
            ]
          },
          "metadata": {
            "tags": []
          },
          "execution_count": 29
        }
      ]
    },
    {
      "cell_type": "code",
      "metadata": {
        "id": "u58fgYu8-mQe",
        "colab_type": "code",
        "outputId": "b7ab2d86-36cb-44fe-ebf2-a6d4f47b7bf9",
        "colab": {
          "base_uri": "https://localhost:8080/",
          "height": 119
        }
      },
      "source": [
        "df.isna().sum()"
      ],
      "execution_count": 0,
      "outputs": [
        {
          "output_type": "execute_result",
          "data": {
            "text/plain": [
              "S-temp       0\n",
              "S-time       0\n",
              "Wel-power    0\n",
              "Wel-speed    0\n",
              "Hardness     0\n",
              "dtype: int64"
            ]
          },
          "metadata": {
            "tags": []
          },
          "execution_count": 82
        }
      ]
    },
    {
      "cell_type": "code",
      "metadata": {
        "id": "Zz75_L5x-zmr",
        "colab_type": "code",
        "colab": {}
      },
      "source": [
        "dataset = df.dropna()"
      ],
      "execution_count": 0,
      "outputs": []
    },
    {
      "cell_type": "code",
      "metadata": {
        "id": "SdEM2BuKdYP5",
        "colab_type": "code",
        "outputId": "ab9157e5-c940-45c1-f82f-82a4255214a4",
        "colab": {
          "base_uri": "https://localhost:8080/",
          "height": 204
        }
      },
      "source": [
        "df=pd.read_excel('data_1004.xlsx')\n",
        "df.head()\n"
      ],
      "execution_count": 0,
      "outputs": [
        {
          "output_type": "execute_result",
          "data": {
            "text/html": [
              "<div>\n",
              "<style scoped>\n",
              "    .dataframe tbody tr th:only-of-type {\n",
              "        vertical-align: middle;\n",
              "    }\n",
              "\n",
              "    .dataframe tbody tr th {\n",
              "        vertical-align: top;\n",
              "    }\n",
              "\n",
              "    .dataframe thead th {\n",
              "        text-align: right;\n",
              "    }\n",
              "</style>\n",
              "<table border=\"1\" class=\"dataframe\">\n",
              "  <thead>\n",
              "    <tr style=\"text-align: right;\">\n",
              "      <th></th>\n",
              "      <th>S-temp</th>\n",
              "      <th>S-time</th>\n",
              "      <th>Wel-power</th>\n",
              "      <th>Wel-speed</th>\n",
              "      <th>Hardness</th>\n",
              "    </tr>\n",
              "  </thead>\n",
              "  <tbody>\n",
              "    <tr>\n",
              "      <th>0</th>\n",
              "      <td>1000</td>\n",
              "      <td>5</td>\n",
              "      <td>1500</td>\n",
              "      <td>3</td>\n",
              "      <td>343.7</td>\n",
              "    </tr>\n",
              "    <tr>\n",
              "      <th>1</th>\n",
              "      <td>1000</td>\n",
              "      <td>5</td>\n",
              "      <td>1500</td>\n",
              "      <td>3</td>\n",
              "      <td>350.1</td>\n",
              "    </tr>\n",
              "    <tr>\n",
              "      <th>2</th>\n",
              "      <td>1000</td>\n",
              "      <td>5</td>\n",
              "      <td>1500</td>\n",
              "      <td>3</td>\n",
              "      <td>351.7</td>\n",
              "    </tr>\n",
              "    <tr>\n",
              "      <th>3</th>\n",
              "      <td>1000</td>\n",
              "      <td>5</td>\n",
              "      <td>1500</td>\n",
              "      <td>3</td>\n",
              "      <td>365.6</td>\n",
              "    </tr>\n",
              "    <tr>\n",
              "      <th>4</th>\n",
              "      <td>1000</td>\n",
              "      <td>5</td>\n",
              "      <td>1500</td>\n",
              "      <td>3</td>\n",
              "      <td>337.5</td>\n",
              "    </tr>\n",
              "  </tbody>\n",
              "</table>\n",
              "</div>"
            ],
            "text/plain": [
              "   S-temp  S-time  Wel-power  Wel-speed  Hardness\n",
              "0    1000       5       1500          3     343.7\n",
              "1    1000       5       1500          3     350.1\n",
              "2    1000       5       1500          3     351.7\n",
              "3    1000       5       1500          3     365.6\n",
              "4    1000       5       1500          3     337.5"
            ]
          },
          "metadata": {
            "tags": []
          },
          "execution_count": 112
        }
      ]
    },
    {
      "cell_type": "markdown",
      "metadata": {
        "id": "eE-8hwAGnsp2",
        "colab_type": "text"
      },
      "source": [
        "# Preparation of the data for training"
      ]
    },
    {
      "cell_type": "code",
      "metadata": {
        "id": "0l8bDM117LlN",
        "colab_type": "code",
        "outputId": "01581c17-b3ac-41af-a400-1a6852176905",
        "colab": {
          "base_uri": "https://localhost:8080/",
          "height": 296
        }
      },
      "source": [
        "\n",
        "plt.plot(df.index, df['Hardness'], color='r', lw=2)\n",
        "plt.xlabel('Experiments')\n",
        "plt.ylabel('Hardness')\n",
        "plt.show()\n",
        "plt.savefig('name.pdf')\n",
        "files.download('name.pdf')"
      ],
      "execution_count": 0,
      "outputs": [
        {
          "output_type": "display_data",
          "data": {
            "image/png": "[encoded data removed]",
            "text/plain": [
              "<Figure size 432x288 with 1 Axes>"
            ]
          },
          "metadata": {
            "tags": []
          }
        },
        {
          "output_type": "display_data",
          "data": {
            "text/plain": [
              "<Figure size 432x288 with 0 Axes>"
            ]
          },
          "metadata": {
            "tags": []
          }
        }
      ]
    },
    {
      "cell_type": "markdown",
      "metadata": {
        "id": "la5dExFYUIkN",
        "colab_type": "text"
      },
      "source": [
        "Split the data into train and test\n",
        "\n"
      ]
    },
    {
      "cell_type": "markdown",
      "metadata": {
        "id": "QhvnLA1KU6mC",
        "colab_type": "text"
      },
      "source": [
        "\n",
        "We will use the test set in the final evaluation of our model"
      ]
    },
    {
      "cell_type": "code",
      "metadata": {
        "id": "vzxbYSBqdefi",
        "colab_type": "code",
        "colab": {}
      },
      "source": [
        "train_dataset = df.sample(frac=0.8,random_state=0)\n",
        "test_dataset = df.drop(train_dataset.index)"
      ],
      "execution_count": 0,
      "outputs": []
    },
    {
      "cell_type": "markdown",
      "metadata": {
        "id": "dk3lbXIdVQeC",
        "colab_type": "text"
      },
      "source": [
        "We want to take a look at the overall statistics"
      ]
    },
    {
      "cell_type": "code",
      "metadata": {
        "id": "D7yGtd1Gd1mF",
        "colab_type": "code",
        "outputId": "17bd0f4d-819d-45cd-b1d0-b0d7a88a9322",
        "colab": {
          "base_uri": "https://localhost:8080/",
          "height": 173
        }
      },
      "source": [
        "train_stats = train_dataset.describe()\n",
        "train_stats.pop(\"Hardness\")\n",
        "train_stats = train_stats.transpose()\n",
        "train_stats"
      ],
      "execution_count": 0,
      "outputs": [
        {
          "output_type": "execute_result",
          "data": {
            "text/html": [
              "<div>\n",
              "<style scoped>\n",
              "    .dataframe tbody tr th:only-of-type {\n",
              "        vertical-align: middle;\n",
              "    }\n",
              "\n",
              "    .dataframe tbody tr th {\n",
              "        vertical-align: top;\n",
              "    }\n",
              "\n",
              "    .dataframe thead th {\n",
              "        text-align: right;\n",
              "    }\n",
              "</style>\n",
              "<table border=\"1\" class=\"dataframe\">\n",
              "  <thead>\n",
              "    <tr style=\"text-align: right;\">\n",
              "      <th></th>\n",
              "      <th>count</th>\n",
              "      <th>mean</th>\n",
              "      <th>std</th>\n",
              "      <th>min</th>\n",
              "      <th>25%</th>\n",
              "      <th>50%</th>\n",
              "      <th>75%</th>\n",
              "      <th>max</th>\n",
              "    </tr>\n",
              "  </thead>\n",
              "  <tbody>\n",
              "    <tr>\n",
              "      <th>S-temp</th>\n",
              "      <td>24.0</td>\n",
              "      <td>1000.000000</td>\n",
              "      <td>83.405766</td>\n",
              "      <td>900.0</td>\n",
              "      <td>900.0</td>\n",
              "      <td>1000.0</td>\n",
              "      <td>1100.0</td>\n",
              "      <td>1100.0</td>\n",
              "    </tr>\n",
              "    <tr>\n",
              "      <th>S-time</th>\n",
              "      <td>24.0</td>\n",
              "      <td>6.666667</td>\n",
              "      <td>2.407717</td>\n",
              "      <td>5.0</td>\n",
              "      <td>5.0</td>\n",
              "      <td>5.0</td>\n",
              "      <td>10.0</td>\n",
              "      <td>10.0</td>\n",
              "    </tr>\n",
              "    <tr>\n",
              "      <th>Wel-power</th>\n",
              "      <td>24.0</td>\n",
              "      <td>1733.333333</td>\n",
              "      <td>209.899907</td>\n",
              "      <td>1500.0</td>\n",
              "      <td>1500.0</td>\n",
              "      <td>1700.0</td>\n",
              "      <td>2000.0</td>\n",
              "      <td>2000.0</td>\n",
              "    </tr>\n",
              "    <tr>\n",
              "      <th>Wel-speed</th>\n",
              "      <td>24.0</td>\n",
              "      <td>2.666667</td>\n",
              "      <td>0.481543</td>\n",
              "      <td>2.0</td>\n",
              "      <td>2.0</td>\n",
              "      <td>3.0</td>\n",
              "      <td>3.0</td>\n",
              "      <td>3.0</td>\n",
              "    </tr>\n",
              "  </tbody>\n",
              "</table>\n",
              "</div>"
            ],
            "text/plain": [
              "           count         mean         std  ...     50%     75%     max\n",
              "S-temp      24.0  1000.000000   83.405766  ...  1000.0  1100.0  1100.0\n",
              "S-time      24.0     6.666667    2.407717  ...     5.0    10.0    10.0\n",
              "Wel-power   24.0  1733.333333  209.899907  ...  1700.0  2000.0  2000.0\n",
              "Wel-speed   24.0     2.666667    0.481543  ...     3.0     3.0     3.0\n",
              "\n",
              "[4 rows x 8 columns]"
            ]
          },
          "metadata": {
            "tags": []
          },
          "execution_count": 59
        }
      ]
    },
    {
      "cell_type": "markdown",
      "metadata": {
        "id": "mlM6SawLV-fq",
        "colab_type": "text"
      },
      "source": [
        "SPLIT FEATURES FROM LABELS"
      ]
    },
    {
      "cell_type": "markdown",
      "metadata": {
        "id": "HZIEWKMvWIK0",
        "colab_type": "text"
      },
      "source": [
        "Separate the target value, or \"label\", from the features. This label is the value that you will train the model to predict."
      ]
    },
    {
      "cell_type": "code",
      "metadata": {
        "id": "EYe9T7qOeLvK",
        "colab_type": "code",
        "colab": {}
      },
      "source": [
        "train_labels = train_dataset.pop('Hardness')\n",
        "test_labels = test_dataset.pop('Hardness')"
      ],
      "execution_count": 0,
      "outputs": []
    },
    {
      "cell_type": "markdown",
      "metadata": {
        "id": "Iz1l9ejjn4As",
        "colab_type": "text"
      },
      "source": [
        "# Defining the function to normalize the data"
      ]
    },
    {
      "cell_type": "markdown",
      "metadata": {
        "id": "NuyCeZzUW3he",
        "colab_type": "text"
      },
      "source": [
        "It is good practice to normalize features that use different scales and ranges. Although the model might converge without feature normalization, it makes training more difficult, and it makes the resulting model dependent on the choice of units used in the input."
      ]
    },
    {
      "cell_type": "markdown",
      "metadata": {
        "id": "bfiHvCLuXBHp",
        "colab_type": "text"
      },
      "source": [
        "Note: Although we intentionally generate these statistics from only the training dataset, these statistics will also be used to normalize the test dataset. We need to do that to project the test dataset into the same distribution that the model has been trained on."
      ]
    },
    {
      "cell_type": "code",
      "metadata": {
        "id": "gjuvsoypeayZ",
        "colab_type": "code",
        "colab": {}
      },
      "source": [
        "def norm(x):\n",
        "  return (x - train_stats['mean']) / train_stats['std']\n",
        "normed_train_data = norm(train_dataset)\n",
        "normed_test_data = norm(test_dataset)\n"
      ],
      "execution_count": 0,
      "outputs": []
    },
    {
      "cell_type": "markdown",
      "metadata": {
        "id": "DAkTu4MTXOaW",
        "colab_type": "text"
      },
      "source": [
        "This normalized data is what we will use to train the model.\n",
        "\n",
        "Caution: The statistics used to normalize the inputs here (mean and standard deviation) need to be applied to any other data that is fed to the model, along with the one-hot encoding that we did earlier. That includes the test set as well as live data when the model is used in production."
      ]
    },
    {
      "cell_type": "markdown",
      "metadata": {
        "id": "M1-FFMWQoAj9",
        "colab_type": "text"
      },
      "source": [
        "# Build the Model\n",
        "# Defining the shallow neural network model"
      ]
    },
    {
      "cell_type": "markdown",
      "metadata": {
        "id": "_2sQOyBCXfcW",
        "colab_type": "text"
      },
      "source": [
        "Let's build our model. Here, we'll use a Sequential model with two densely connected hidden layers, and an output layer that returns a single, continuous value. The model building steps are wrapped in a function, build_model, since we'll create a second model, later on."
      ]
    },
    {
      "cell_type": "code",
      "metadata": {
        "id": "BOMda9IpevPS",
        "colab_type": "code",
        "colab": {}
      },
      "source": [
        "def build_model():\n",
        "  model = keras.Sequential([\n",
        "    keras.layers.Dense(64, activation='relu', input_shape=[len(train_dataset.keys())]),\n",
        "    keras.layers.Dense(64, activation='relu'),\n",
        "    keras.layers.Dense(1)\n",
        "  ])\n",
        "\n",
        "  optimizer = tf.keras.optimizers.RMSprop(0.001)\n",
        "\n",
        "  model.compile(loss='mse',\n",
        "                optimizer=optimizer,\n",
        "                metrics=['mae', 'mse'])\n",
        "  return model"
      ],
      "execution_count": 0,
      "outputs": []
    },
    {
      "cell_type": "code",
      "metadata": {
        "id": "5fyCtWy0e4c-",
        "colab_type": "code",
        "colab": {}
      },
      "source": [
        "model = build_model()"
      ],
      "execution_count": 0,
      "outputs": []
    },
    {
      "cell_type": "markdown",
      "metadata": {
        "id": "ZMjHXXoNXmIe",
        "colab_type": "text"
      },
      "source": [
        "#Inspect the model\n",
        "Use the .summary method to print a simple description of the model"
      ]
    },
    {
      "cell_type": "code",
      "metadata": {
        "id": "GgLLHiWpXqLb",
        "colab_type": "code",
        "outputId": "e10b1555-238d-45ab-b99a-3dc5560c2188",
        "colab": {
          "base_uri": "https://localhost:8080/",
          "height": 255
        }
      },
      "source": [
        "model.summary()"
      ],
      "execution_count": 0,
      "outputs": [
        {
          "output_type": "stream",
          "text": [
            "Model: \"sequential_3\"\n",
            "_________________________________________________________________\n",
            "Layer (type)                 Output Shape              Param #   \n",
            "=================================================================\n",
            "dense_9 (Dense)              (None, 64)                320       \n",
            "_________________________________________________________________\n",
            "dense_10 (Dense)             (None, 64)                4160      \n",
            "_________________________________________________________________\n",
            "dense_11 (Dense)             (None, 1)                 65        \n",
            "=================================================================\n",
            "Total params: 4,545\n",
            "Trainable params: 4,545\n",
            "Non-trainable params: 0\n",
            "_________________________________________________________________\n"
          ],
          "name": "stdout"
        }
      ]
    },
    {
      "cell_type": "markdown",
      "metadata": {
        "id": "qqE9jbGuoXHY",
        "colab_type": "text"
      },
      "source": [
        "# Training and validation of the model"
      ]
    },
    {
      "cell_type": "markdown",
      "metadata": {
        "id": "0vkKGMT5YE3g",
        "colab_type": "text"
      },
      "source": [
        "Train the model for 1000 epochs, and record the training and validation accuracy in the history object"
      ]
    },
    {
      "cell_type": "code",
      "metadata": {
        "id": "Y0K0hNsLf7pY",
        "colab_type": "code",
        "outputId": "0f9d76c1-652a-4cc7-cc77-4ce5631c4dca",
        "colab": {
          "base_uri": "https://localhost:8080/",
          "height": 374
        }
      },
      "source": [
        "EPOCHS = 1000\n",
        "\n",
        "history = model.fit(\n",
        "  normed_train_data, train_labels,\n",
        "  epochs=EPOCHS, validation_split = 0.2, verbose=0,\n",
        "  callbacks=[tfdocs.modeling.EpochDots()])"
      ],
      "execution_count": 0,
      "outputs": [
        {
          "output_type": "stream",
          "text": [
            "\n",
            "Epoch: 0, loss:132905.1250,  mae:363.9840,  mse:132905.1250,  val_loss:128667.0469,  val_mae:358.4232,  val_mse:128667.0469,  \n",
            "....................................................................................................\n",
            "Epoch: 100, loss:114567.5547,  mae:338.0610,  mse:114567.5547,  val_loss:115014.4219,  val_mae:338.8966,  val_mse:115014.4219,  \n",
            "....................................................................................................\n",
            "Epoch: 200, loss:66822.8125,  mae:257.3043,  mse:66822.8125,  val_loss:79176.9219,  val_mae:281.1093,  val_mse:79176.9219,  \n",
            "....................................................................................................\n",
            "Epoch: 300, loss:15549.3340,  mae:110.0696,  mse:15549.3340,  val_loss:28801.6035,  val_mae:167.5147,  val_mse:28801.6035,  \n",
            "....................................................................................................\n",
            "Epoch: 400, loss:455.0079,  mae:18.1430,  mse:455.0079,  val_loss:537.4078,  val_mae:19.8687,  val_mse:537.4078,  \n",
            "....................................................................................................\n",
            "Epoch: 500, loss:198.0891,  mae:9.7041,  mse:198.0891,  val_loss:328.7754,  val_mae:13.9895,  val_mse:328.7754,  \n",
            "....................................................................................................\n",
            "Epoch: 600, loss:198.0434,  mae:9.7011,  mse:198.0434,  val_loss:328.6456,  val_mae:13.9839,  val_mse:328.6456,  \n",
            "....................................................................................................\n",
            "Epoch: 700, loss:198.0435,  mae:9.7011,  mse:198.0435,  val_loss:328.6454,  val_mae:13.9839,  val_mse:328.6454,  \n",
            "....................................................................................................\n",
            "Epoch: 800, loss:198.0432,  mae:9.7011,  mse:198.0432,  val_loss:328.6431,  val_mae:13.9838,  val_mse:328.6431,  \n",
            "....................................................................................................\n",
            "Epoch: 900, loss:198.0428,  mae:9.7011,  mse:198.0428,  val_loss:328.6419,  val_mae:13.9838,  val_mse:328.6419,  \n",
            "...................................................................................................."
          ],
          "name": "stdout"
        }
      ]
    },
    {
      "cell_type": "markdown",
      "metadata": {
        "id": "1l6TCznporTf",
        "colab_type": "text"
      },
      "source": [
        "# Learning and validation results\n",
        "#Visualize the model's training progress using the stats stored in the history object."
      ]
    },
    {
      "cell_type": "code",
      "metadata": {
        "id": "6GwCkpoRjaaE",
        "colab_type": "code",
        "outputId": "c93e74eb-c08a-440d-f3ac-07b5e47b277f",
        "colab": {
          "base_uri": "https://localhost:8080/",
          "height": 204
        }
      },
      "source": [
        "hist = pd.DataFrame(history.history)\n",
        "hist['epoch'] = history.epoch\n",
        "hist.tail()"
      ],
      "execution_count": 0,
      "outputs": [
        {
          "output_type": "execute_result",
          "data": {
            "text/html": [
              "<div>\n",
              "<style scoped>\n",
              "    .dataframe tbody tr th:only-of-type {\n",
              "        vertical-align: middle;\n",
              "    }\n",
              "\n",
              "    .dataframe tbody tr th {\n",
              "        vertical-align: top;\n",
              "    }\n",
              "\n",
              "    .dataframe thead th {\n",
              "        text-align: right;\n",
              "    }\n",
              "</style>\n",
              "<table border=\"1\" class=\"dataframe\">\n",
              "  <thead>\n",
              "    <tr style=\"text-align: right;\">\n",
              "      <th></th>\n",
              "      <th>loss</th>\n",
              "      <th>mae</th>\n",
              "      <th>mse</th>\n",
              "      <th>val_loss</th>\n",
              "      <th>val_mae</th>\n",
              "      <th>val_mse</th>\n",
              "      <th>epoch</th>\n",
              "    </tr>\n",
              "  </thead>\n",
              "  <tbody>\n",
              "    <tr>\n",
              "      <th>995</th>\n",
              "      <td>198.058289</td>\n",
              "      <td>9.597018</td>\n",
              "      <td>198.058289</td>\n",
              "      <td>297.625793</td>\n",
              "      <td>12.603327</td>\n",
              "      <td>297.625793</td>\n",
              "      <td>995</td>\n",
              "    </tr>\n",
              "    <tr>\n",
              "      <th>996</th>\n",
              "      <td>198.042847</td>\n",
              "      <td>9.701085</td>\n",
              "      <td>198.042847</td>\n",
              "      <td>328.642822</td>\n",
              "      <td>13.983795</td>\n",
              "      <td>328.642822</td>\n",
              "      <td>996</td>\n",
              "    </tr>\n",
              "    <tr>\n",
              "      <th>997</th>\n",
              "      <td>198.058212</td>\n",
              "      <td>9.597013</td>\n",
              "      <td>198.058212</td>\n",
              "      <td>297.626465</td>\n",
              "      <td>12.603333</td>\n",
              "      <td>297.626465</td>\n",
              "      <td>997</td>\n",
              "    </tr>\n",
              "    <tr>\n",
              "      <th>998</th>\n",
              "      <td>198.042847</td>\n",
              "      <td>9.701082</td>\n",
              "      <td>198.042847</td>\n",
              "      <td>328.641663</td>\n",
              "      <td>13.983777</td>\n",
              "      <td>328.641663</td>\n",
              "      <td>998</td>\n",
              "    </tr>\n",
              "    <tr>\n",
              "      <th>999</th>\n",
              "      <td>198.058334</td>\n",
              "      <td>9.597022</td>\n",
              "      <td>198.058334</td>\n",
              "      <td>297.625092</td>\n",
              "      <td>12.603266</td>\n",
              "      <td>297.625092</td>\n",
              "      <td>999</td>\n",
              "    </tr>\n",
              "  </tbody>\n",
              "</table>\n",
              "</div>"
            ],
            "text/plain": [
              "           loss       mae         mse    val_loss    val_mae     val_mse  epoch\n",
              "995  198.058289  9.597018  198.058289  297.625793  12.603327  297.625793    995\n",
              "996  198.042847  9.701085  198.042847  328.642822  13.983795  328.642822    996\n",
              "997  198.058212  9.597013  198.058212  297.626465  12.603333  297.626465    997\n",
              "998  198.042847  9.701082  198.042847  328.641663  13.983777  328.641663    998\n",
              "999  198.058334  9.597022  198.058334  297.625092  12.603266  297.625092    999"
            ]
          },
          "metadata": {
            "tags": []
          },
          "execution_count": 75
        }
      ]
    },
    {
      "cell_type": "markdown",
      "metadata": {
        "id": "bNWAl54ooxs_",
        "colab_type": "text"
      },
      "source": [
        "# Plotting the results"
      ]
    },
    {
      "cell_type": "code",
      "metadata": {
        "id": "ueupg18_jeDP",
        "colab_type": "code",
        "colab": {}
      },
      "source": [
        "plotter = tfdocs.plots.HistoryPlotter(smoothing_std=3)"
      ],
      "execution_count": 0,
      "outputs": []
    },
    {
      "cell_type": "code",
      "metadata": {
        "id": "-e1pReH8joxf",
        "colab_type": "code",
        "outputId": "e08b65d4-3d54-4396-9276-6e1e2c532cb9",
        "colab": {
          "base_uri": "https://localhost:8080/",
          "height": 283
        }
      },
      "source": [
        "plotter.plot({'Basic': history}, metric = \"mae\")\n",
        "plt.ylim([0, 500])\n",
        "plt.ylabel('MAE [Hardness]')   #mean_absolute_error\n",
        "plt.savefig('name.pdf')\n",
        "files.download('name.pdf')"
      ],
      "execution_count": 0,
      "outputs": [
        {
          "output_type": "display_data",
          "data": {
            "image/png": "[encoded data removed]",
            "text/plain": [
              "<Figure size 432x288 with 1 Axes>"
            ]
          },
          "metadata": {
            "tags": []
          }
        }
      ]
    },
    {
      "cell_type": "markdown",
      "metadata": {
        "id": "V9iVxF_wYuRr",
        "colab_type": "text"
      },
      "source": [
        "This graph shows little improvement, or even degradation in the validation error after about 100 epochs. Let's update the model.fit call to automatically stop training when the validation score doesn't improve. We'll use an EarlyStopping callback that tests a training condition for every epoch. If a set amount of epochs elapses without showing improvement, then automatically stop the training."
      ]
    },
    {
      "cell_type": "code",
      "metadata": {
        "id": "Ql8KX7zykq81",
        "colab_type": "code",
        "outputId": "38e5e396-e5d1-42a1-bfa1-232d6a4378c3",
        "colab": {
          "base_uri": "https://localhost:8080/",
          "height": 283
        }
      },
      "source": [
        "plotter.plot({'Basic': history}, metric = 'mse')\n",
        "plt.ylim([0, 200000])\n",
        "plt.ylabel('MSE [Hardness]') #mean_squared_error\n",
        "plt.savefig('name.pdf')\n",
        "files.download('name.pdf')\n"
      ],
      "execution_count": 0,
      "outputs": [
        {
          "output_type": "display_data",
          "data": {
            "image/png": "[encoded data removed]",
            "text/plain": [
              "<Figure size 432x288 with 1 Axes>"
            ]
          },
          "metadata": {
            "tags": []
          }
        }
      ]
    },
    {
      "cell_type": "markdown",
      "metadata": {
        "id": "kWHnXFrdo5UY",
        "colab_type": "text"
      },
      "source": [
        "# Model with early stopping"
      ]
    },
    {
      "cell_type": "code",
      "metadata": {
        "id": "FHWag8L_lBQ9",
        "colab_type": "code",
        "outputId": "c6fe3a9a-33ec-48d0-e96f-2f0e280779ef",
        "colab": {
          "base_uri": "https://localhost:8080/",
          "height": 204
        }
      },
      "source": [
        "model1 = build_model()\n",
        "\n",
        "# The patience parameter is the amount of epochs to check for improvement\n",
        "early_stop = keras.callbacks.EarlyStopping(monitor='val_loss', patience=10)\n",
        "\n",
        "early_history = model1.fit(normed_train_data, train_labels, \n",
        "                    epochs=EPOCHS, validation_split = 0.2, verbose=0, \n",
        "                    callbacks=[early_stop, tfdocs.modeling.EpochDots()])\n"
      ],
      "execution_count": 0,
      "outputs": [
        {
          "output_type": "stream",
          "text": [
            "\n",
            "Epoch: 0, loss:132824.2656,  mae:363.8749,  mse:132824.2656,  val_loss:128602.2969,  val_mae:358.3323,  val_mse:128602.2969,  \n",
            "....................................................................................................\n",
            "Epoch: 100, loss:114804.6172,  mae:338.3788,  mse:114804.6172,  val_loss:114594.9375,  val_mae:338.2816,  val_mse:114594.9375,  \n",
            "....................................................................................................\n",
            "Epoch: 200, loss:67624.1562,  mae:259.1809,  mse:67624.1562,  val_loss:77044.2500,  val_mae:277.2894,  val_mse:77044.2500,  \n",
            "....................................................................................................\n",
            "Epoch: 300, loss:14632.0146,  mae:110.8843,  mse:14632.0146,  val_loss:25480.8223,  val_mae:156.9191,  val_mse:25480.8223,  \n",
            "....................................................................................................\n",
            "Epoch: 400, loss:319.5997,  mae:15.3028,  mse:319.5997,  val_loss:319.9056,  val_mae:13.9860,  val_mse:319.9056,  \n",
            "......................"
          ],
          "name": "stdout"
        }
      ]
    },
    {
      "cell_type": "markdown",
      "metadata": {
        "id": "TB-T8jtso_rr",
        "colab_type": "text"
      },
      "source": [
        "# Results of the model with early stopping"
      ]
    },
    {
      "cell_type": "code",
      "metadata": {
        "id": "93G6qKA5lFJl",
        "colab_type": "code",
        "outputId": "ba37433a-0894-4ebb-935c-dd6f1f1ebff3",
        "colab": {
          "base_uri": "https://localhost:8080/",
          "height": 283
        }
      },
      "source": [
        "plotter.plot({'Early Stopping': early_history}, metric = \"mae\")\n",
        "plt.ylim([0, 500])\n",
        "plt.ylabel('MAE [Hardness]') #mean_absolute_error\n",
        "plt.savefig('name.pdf')\n",
        "files.download('name.pdf')"
      ],
      "execution_count": 0,
      "outputs": [
        {
          "output_type": "display_data",
          "data": {
            "image/png": "[encoded data removed]",
            "text/plain": [
              "<Figure size 432x288 with 1 Axes>"
            ]
          },
          "metadata": {
            "tags": []
          }
        }
      ]
    },
    {
      "cell_type": "code",
      "metadata": {
        "id": "nDxGLAYikmkK",
        "colab_type": "code",
        "outputId": "0b8ba954-96a6-4af2-cde6-aab60ffa7435",
        "colab": {
          "base_uri": "https://localhost:8080/",
          "height": 283
        }
      },
      "source": [
        "plotter.plot({'Early Stopping': early_history}, metric = \"mse\")\n",
        "plt.ylim([0, 200000])\n",
        "plt.ylabel('MSE [Hardness]') #mean_squared_error\n",
        "plt.savefig('name.pdf')\n",
        "files.download('name.pdf')"
      ],
      "execution_count": 0,
      "outputs": [
        {
          "output_type": "display_data",
          "data": {
            "image/png": "[encoded data removed]",
            "text/plain": [
              "<Figure size 432x288 with 1 Axes>"
            ]
          },
          "metadata": {
            "tags": []
          }
        }
      ]
    },
    {
      "cell_type": "markdown",
      "metadata": {
        "id": "sg0ZVQn5atDT",
        "colab_type": "text"
      },
      "source": [
        "The graph shows that on the validation set, the average error is usually around +/- 10 Hardness. Is this good? We'll leave that decision up to you.\n",
        "\n",
        "Let's see how well the model generalizes by using the test set, which we did not use when training the model. This tells us how well we can expect the model to predict when we use it in the real world."
      ]
    },
    {
      "cell_type": "markdown",
      "metadata": {
        "id": "mU91J5P3nyvR",
        "colab_type": "text"
      },
      "source": [
        "# Training loss"
      ]
    },
    {
      "cell_type": "code",
      "metadata": {
        "id": "ctCpAiBwnjaI",
        "colab_type": "code",
        "outputId": "90384860-2891-4f1c-ce80-b0f865c21f8c",
        "colab": {
          "base_uri": "https://localhost:8080/",
          "height": 51
        }
      },
      "source": [
        "loss, mae, mse = model1.evaluate(normed_train_data, train_labels, verbose=2)\n",
        "\n",
        "print(\"Testing set Mean Abs Error: {:5.2f} Hardness\".format(mae))"
      ],
      "execution_count": 0,
      "outputs": [
        {
          "output_type": "stream",
          "text": [
            "24/24 - 0s - loss: 215.4297 - mae: 10.5828 - mse: 215.4297\n",
            "Testing set Mean Abs Error: 10.58 Hardness\n"
          ],
          "name": "stdout"
        }
      ]
    },
    {
      "cell_type": "markdown",
      "metadata": {
        "id": "6u1B-eUXpJHr",
        "colab_type": "text"
      },
      "source": [
        "# Test loss"
      ]
    },
    {
      "cell_type": "code",
      "metadata": {
        "id": "R71E-t0slx5h",
        "colab_type": "code",
        "outputId": "80bd64f2-8879-4294-829b-d6bbfe2c064e",
        "colab": {
          "base_uri": "https://localhost:8080/",
          "height": 51
        }
      },
      "source": [
        "loss, mae, mse = model1.evaluate(normed_test_data, test_labels, verbose=2)\n",
        "\n",
        "print(\"Testing set Mean Abs Error: {:5.2f} Hardness\".format(mae))\n"
      ],
      "execution_count": 0,
      "outputs": [
        {
          "output_type": "stream",
          "text": [
            "6/6 - 0s - loss: 396.9938 - mae: 15.8764 - mse: 396.9938\n",
            "Testing set Mean Abs Error: 15.88 Hardness\n"
          ],
          "name": "stdout"
        }
      ]
    },
    {
      "cell_type": "markdown",
      "metadata": {
        "id": "_x7EfGnscclx",
        "colab_type": "text"
      },
      "source": [
        "**Make** **predictions**\n",
        "#Finally, predict Hardness values using data in the testing set and training set:"
      ]
    },
    {
      "cell_type": "markdown",
      "metadata": {
        "id": "GGNkS9RopOtG",
        "colab_type": "text"
      },
      "source": [
        "# Training plot"
      ]
    },
    {
      "cell_type": "code",
      "metadata": {
        "id": "qJmqta2toNsr",
        "colab_type": "code",
        "outputId": "a0c3dddc-281a-40e9-8449-e07ada97721d",
        "colab": {
          "base_uri": "https://localhost:8080/",
          "height": 283
        }
      },
      "source": [
        "train_predictions = model1.predict(normed_train_data).flatten()\n",
        "\n",
        "a = plt.axes(aspect='equal')\n",
        "plt.scatter(train_labels, train_predictions)\n",
        "plt.xlabel('True Values [Hardness]')\n",
        "plt.ylabel('Predictions [Hardness]')\n",
        "lims = [0, 1000]\n",
        "plt.xlim(lims)\n",
        "plt.ylim(lims)\n",
        "_ = plt.plot(lims, lims)\n",
        "plt.savefig('name.pdf')\n",
        "files.download('name.pdf')"
      ],
      "execution_count": 0,
      "outputs": [
        {
          "output_type": "display_data",
          "data": {
            "image/png": "[encoded data removed]",
            "text/plain": [
              "<Figure size 432x288 with 1 Axes>"
            ]
          },
          "metadata": {
            "tags": []
          }
        }
      ]
    },
    {
      "cell_type": "markdown",
      "metadata": {
        "id": "c61DVo3loh4g",
        "colab_type": "text"
      },
      "source": [
        "# Test plot"
      ]
    },
    {
      "cell_type": "code",
      "metadata": {
        "id": "qWJiiWAdl8VP",
        "colab_type": "code",
        "outputId": "c18823a4-3daf-4720-f42c-562bb71c75c3",
        "colab": {
          "base_uri": "https://localhost:8080/",
          "height": 283
        }
      },
      "source": [
        "test_predictions = model1.predict(normed_test_data).flatten()\n",
        "\n",
        "a = plt.axes(aspect='equal')\n",
        "plt.scatter(test_labels, test_predictions)\n",
        "plt.xlabel('True Values [Hardness]')\n",
        "plt.ylabel('Predictions [Hardness]')\n",
        "lims = [0, 1000]\n",
        "plt.xlim(lims)\n",
        "plt.ylim(lims)\n",
        "_ = plt.plot(lims, lims)\n",
        "plt.savefig('name.pdf')\n",
        "files.download('name.pdf')\n"
      ],
      "execution_count": 0,
      "outputs": [
        {
          "output_type": "display_data",
          "data": {
            "image/png": "[encoded data removed]",
            "text/plain": [
              "<Figure size 432x288 with 1 Axes>"
            ]
          },
          "metadata": {
            "tags": []
          }
        }
      ]
    },
    {
      "cell_type": "markdown",
      "metadata": {
        "id": "XVAEV5T4dCFE",
        "colab_type": "text"
      },
      "source": [
        "It looks like our model predicts reasonably well. Let's take a look at the error distribution."
      ]
    },
    {
      "cell_type": "code",
      "metadata": {
        "id": "Rtn974PimIZW",
        "colab_type": "code",
        "outputId": "cf7042d8-71ea-4cdc-940d-914338927b4b",
        "colab": {
          "base_uri": "https://localhost:8080/",
          "height": 51
        }
      },
      "source": [
        "test_predictions "
      ],
      "execution_count": 0,
      "outputs": [
        {
          "output_type": "execute_result",
          "data": {
            "text/plain": [
              "array([352.2213 , 352.2213 , 350.12906, 350.12906, 381.4859 , 381.4859 ],\n",
              "      dtype=float32)"
            ]
          },
          "metadata": {
            "tags": []
          },
          "execution_count": 91
        }
      ]
    },
    {
      "cell_type": "markdown",
      "metadata": {
        "id": "4ZsNJEXOplIU",
        "colab_type": "text"
      },
      "source": [
        "# Corralation coefficient"
      ]
    },
    {
      "cell_type": "code",
      "metadata": {
        "id": "8-AkW9oumoFj",
        "colab_type": "code",
        "outputId": "ce16f85b-055e-4e75-89c3-79f46b359ed6",
        "colab": {
          "base_uri": "https://localhost:8080/",
          "height": 34
        }
      },
      "source": [
        "t=np.corrcoef(test_labels, test_predictions)[0,1]\n",
        "k=np.corrcoef(train_labels, train_predictions)[0,1]\n",
        "print('the corralation on the training set is',t,'and that on the test set is',k)"
      ],
      "execution_count": 0,
      "outputs": [
        {
          "output_type": "stream",
          "text": [
            "the corralation on the training set is 0.8306768843326136 and that on the test set is 0.6676458243571554\n"
          ],
          "name": "stdout"
        }
      ]
    },
    {
      "cell_type": "markdown",
      "metadata": {
        "id": "2nyD4w1CpsAd",
        "colab_type": "text"
      },
      "source": [
        "# Percentage Errors on the predictions\n",
        "\n",
        "The percentage error is defined as follows:\n",
        "\n",
        "$$PE= 100\\times \\Big| \\dfrac{TV-PV}{TV}\\Big |$$\n",
        "\n",
        "Where $TV$, $PV$ are the true values and the predicted value respectively."
      ]
    },
    {
      "cell_type": "code",
      "metadata": {
        "id": "EMP7oAMemlp1",
        "colab_type": "code",
        "colab": {}
      },
      "source": [
        "error1 = 100*(np.abs(test_predictions - test_labels))/test_labels\n",
        "error2=100*(np.abs(train_predictions - train_labels))/train_labels"
      ],
      "execution_count": 0,
      "outputs": []
    },
    {
      "cell_type": "code",
      "metadata": {
        "id": "ru3DotKPsH-T",
        "colab_type": "code",
        "outputId": "0f9e6a5c-c521-4f68-9b5d-0a0d6f0440aa",
        "colab": {
          "base_uri": "https://localhost:8080/",
          "height": 136
        }
      },
      "source": [
        "error1"
      ],
      "execution_count": 0,
      "outputs": [
        {
          "output_type": "execute_result",
          "data": {
            "text/plain": [
              "0      2.479288\n",
              "3      3.659378\n",
              "12    12.944858\n",
              "15     3.191588\n",
              "21     0.655911\n",
              "25     4.961161\n",
              "Name: Hardness, dtype: float64"
            ]
          },
          "metadata": {
            "tags": []
          },
          "execution_count": 94
        }
      ]
    },
    {
      "cell_type": "code",
      "metadata": {
        "id": "T87s6VEKm6P7",
        "colab_type": "code",
        "outputId": "5270403c-e891-45ec-bc6e-63ab0b5f15db",
        "colab": {
          "base_uri": "https://localhost:8080/",
          "height": 442
        }
      },
      "source": [
        "error2"
      ],
      "execution_count": 0,
      "outputs": [
        {
          "output_type": "execute_result",
          "data": {
            "text/plain": [
              "2     0.148227\n",
              "28    1.136241\n",
              "13    5.524129\n",
              "10    0.727577\n",
              "26    3.883623\n",
              "24    0.153820\n",
              "27    2.855640\n",
              "11    7.732018\n",
              "17    0.640718\n",
              "22    0.285463\n",
              "5     2.915845\n",
              "16    9.316483\n",
              "8     1.310924\n",
              "14    0.065464\n",
              "23    2.083463\n",
              "20    7.764379\n",
              "1     0.605916\n",
              "29    3.445735\n",
              "6     1.255589\n",
              "4     4.361871\n",
              "18    8.295165\n",
              "19    1.566191\n",
              "9     2.485794\n",
              "7     1.338568\n",
              "Name: Hardness, dtype: float64"
            ]
          },
          "metadata": {
            "tags": []
          },
          "execution_count": 95
        }
      ]
    },
    {
      "cell_type": "code",
      "metadata": {
        "id": "lfO2cuLYtUlh",
        "colab_type": "code",
        "outputId": "9927f843-e15b-4025-e603-aff7131b2028",
        "colab": {
          "base_uri": "https://localhost:8080/",
          "height": 51
        }
      },
      "source": [
        "test_predictions"
      ],
      "execution_count": 0,
      "outputs": [
        {
          "output_type": "execute_result",
          "data": {
            "text/plain": [
              "array([352.2213 , 352.2213 , 350.12906, 350.12906, 381.4859 , 381.4859 ],\n",
              "      dtype=float32)"
            ]
          },
          "metadata": {
            "tags": []
          },
          "execution_count": 96
        }
      ]
    },
    {
      "cell_type": "markdown",
      "metadata": {
        "id": "3LmHWAD0dIcQ",
        "colab_type": "text"
      },
      "source": [
        "Conclusion\n",
        "This notebook introduced a few techniques to handle a regression problem.\n",
        "\n",
        "Mean Squared Error (MSE) is a common loss function used for regression problems \n",
        "(different loss functions are used for classification problems).\n",
        "\n",
        "Similarly, evaluation metrics used for regression differ from classification. A common regression metric is Mean Absolute Error (MAE).\n",
        "\n",
        "When numeric input data features have values with different ranges, each feature should be scaled independently to the same range.\n",
        "\n",
        "If there is not much training data, one technique is to prefer a small network with few hidden layers to avoid overfitting.\n",
        "\n",
        "Early stopping is a useful technique to prevent overfitting."
      ]
    },
    {
      "cell_type": "markdown",
      "metadata": {
        "id": "dRtaDGKOvE4C",
        "colab_type": "text"
      },
      "source": [
        "# Model with regularization"
      ]
    }
  ]
}